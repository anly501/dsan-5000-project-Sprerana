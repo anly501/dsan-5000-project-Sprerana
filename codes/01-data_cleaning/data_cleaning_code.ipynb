{
 "cells": [
  {
   "cell_type": "code",
   "execution_count": 1339,
   "id": "08d7d807",
   "metadata": {},
   "outputs": [],
   "source": [
    "import pandas as pd\n",
    "import random as random\n",
    "import numpy as np\n",
    "import matplotlib.pyplot as plt\n",
    "import seaborn as sns\n",
    "from scipy import stats"
   ]
  },
  {
   "cell_type": "code",
   "execution_count": 1340,
   "id": "6448ae13",
   "metadata": {},
   "outputs": [
    {
     "name": "stdout",
     "output_type": "stream",
     "text": [
      "   ScanDir ID  Site Gender    Age Handedness  DX Secondary Dx  ADHD Measure  \\\n",
      "0       26001   2.0      1  16.92        usa   3       pending      pending   \n",
      "1       26002   2.0      1  15.68          1   2       pending      pending   \n",
      "2       26004   2.0      0  14.99          1   0       pending      pending   \n",
      "3       26005   2.0      0  15.16          1   2       pending      pending   \n",
      "4       26009   2.0      1  16.91          0   1       pending      pending   \n",
      "\n",
      "   ADHD Index Inattentive Hyper/Impulsive  IQ Measure  Verbal IQ  \\\n",
      "0        43.0     pending         pending         NaN      133.0   \n",
      "1        35.0     pending         pending         NaN      106.0   \n",
      "2        43.0     pending         pending         NaN      119.0   \n",
      "3        54.0     pending         pending         NaN      116.0   \n",
      "4        44.0     pending         pending         NaN      113.0   \n",
      "\n",
      "   Performance IQ Full2 IQ  Full4 IQ  \n",
      "0           104.0      NaN     120.0  \n",
      "1           106.0      NaN     107.0  \n",
      "2           123.0      NaN     125.0  \n",
      "3           131.0              126.0  \n",
      "4            81.0      NaN      97.0  \n"
     ]
    }
   ],
   "source": [
    "# Specify the path to your CSV file\n",
    "csv_file_path = '../../data/00-raw-data/Brown_TestRelease_phenotypic.csv'\n",
    "\n",
    "# Use the read_csv function to read the CSV file into a DataFrame\n",
    "df1 = pd.read_csv(csv_file_path,encoding='latin1')\n",
    "\n",
    "print(df1.head())"
   ]
  },
  {
   "cell_type": "code",
   "execution_count": 1341,
   "id": "dcfd2d34",
   "metadata": {},
   "outputs": [],
   "source": [
    "#cleaning step-1\n",
    "##TO REMOVE SPACES FROM COLUMN NAMES\n",
    "df1.columns = df1.columns.str.strip()\n"
   ]
  },
  {
   "cell_type": "code",
   "execution_count": 1342,
   "id": "574deb31",
   "metadata": {},
   "outputs": [
    {
     "name": "stdout",
     "output_type": "stream",
     "text": [
      "ScanDir ID           int64\n",
      "Site               float64\n",
      "Gender              object\n",
      "Age                float64\n",
      "Handedness          object\n",
      "DX                   int64\n",
      "Secondary Dx        object\n",
      "ADHD Measure        object\n",
      "ADHD Index         float64\n",
      "Inattentive         object\n",
      "Hyper/Impulsive     object\n",
      "IQ Measure         float64\n",
      "Verbal IQ          float64\n",
      "Performance IQ     float64\n",
      "Full2 IQ            object\n",
      "Full4 IQ           float64\n",
      "dtype: object\n"
     ]
    }
   ],
   "source": [
    "# Identify columns with mixed data types\n",
    "#convert the object datatypes\n",
    "#the datatypes are similar for dataframes too as its the similar data from various unis\n",
    "print(df1.dtypes)"
   ]
  },
  {
   "cell_type": "code",
   "execution_count": 1343,
   "id": "e106bc8a",
   "metadata": {},
   "outputs": [],
   "source": [
    "#PC1 data collection site, gender, age, \n",
    "#handedness, Verbal IQ, Performance IQ, and Full 4 IQ. \n",
    "#(IQ Measure and Full 2 IQ) as well as different preprocessing of handedness data from the NeuroIMAGE site. \n",
    "#PCs2 included nine features: data collection site, gender, age, handedness, IQ Measure, Verbal IQ, Performance IQ, Full 2 IQ, and Full 4 IQ. \n",
    "\n",
    "#convert gender column to numeric.\n",
    "df1['Gender'] = pd.to_numeric(df1['Gender'], errors='coerce')\n",
    "\n",
    "#convert handedness column to numeric.\n",
    "df1['Handedness'] = pd.to_numeric(df1['Handedness'], errors='coerce')\n",
    "\n",
    "#convert Inattentive column to numeric.\n",
    "df1['Inattentive'] = pd.to_numeric(df1['Inattentive'], errors='coerce')\n",
    "\n",
    "#convert Hyper/Impulsive column to numeric.\n",
    "df1['Hyper/Impulsive'] = pd.to_numeric(df1['Hyper/Impulsive'], errors='coerce')\n",
    "\n",
    "#convert ADHD Measure column to numeric\n",
    "df1['ADHD Measure'] = pd.to_numeric(df1['ADHD Measure'], errors='coerce')\n",
    "\n",
    "#convert Full2 IQ column to numeric\n",
    "df1['Full2 IQ'] = pd.to_numeric(df1['Full2 IQ'], errors='coerce')\n",
    "\n",
    "#convert Secondary Dx column to numeric\n",
    "df1['Secondary Dx'] = pd.to_numeric(df1['Secondary Dx'], errors='coerce')\n",
    "\n"
   ]
  },
  {
   "cell_type": "code",
   "execution_count": 1344,
   "id": "1a8a8374",
   "metadata": {},
   "outputs": [
    {
     "name": "stdout",
     "output_type": "stream",
     "text": [
      "ScanDir ID           int64\n",
      "Site               float64\n",
      "Gender             float64\n",
      "Age                float64\n",
      "Handedness         float64\n",
      "DX                   int64\n",
      "Secondary Dx       float64\n",
      "ADHD Measure       float64\n",
      "ADHD Index         float64\n",
      "Inattentive        float64\n",
      "Hyper/Impulsive    float64\n",
      "IQ Measure         float64\n",
      "Verbal IQ          float64\n",
      "Performance IQ     float64\n",
      "Full2 IQ           float64\n",
      "Full4 IQ           float64\n",
      "dtype: object\n"
     ]
    }
   ],
   "source": [
    "#Datatypes after proper formatting\n",
    "print(df1.dtypes)"
   ]
  },
  {
   "cell_type": "code",
   "execution_count": 1345,
   "id": "5de2bc55",
   "metadata": {},
   "outputs": [],
   "source": [
    "#standardising the columns\n",
    "#REPLACE ALL CELLS THAT ARE ENTIRELY SPACE (OR EMPTY) WITH NAN \n",
    "#noticed spaces in df1, and df6\n",
    "df1.replace(r'^\\s*$', np.nan, regex=True, inplace=True)\n"
   ]
  },
  {
   "cell_type": "code",
   "execution_count": 1346,
   "id": "7992010d",
   "metadata": {},
   "outputs": [
    {
     "name": "stdout",
     "output_type": "stream",
     "text": [
      "Empty DataFrame\n",
      "Columns: [ScanDir ID, Site, Gender, Age, Handedness, DX, Secondary Dx, ADHD Measure, ADHD Index, Inattentive, Hyper/Impulsive, IQ Measure, Verbal IQ, Performance IQ, Full2 IQ, Full4 IQ]\n",
      "Index: []\n"
     ]
    }
   ],
   "source": [
    "#check for duplicate rows\n",
    "duplicates = df1.duplicated()\n",
    "print(df1[duplicates])"
   ]
  },
  {
   "cell_type": "code",
   "execution_count": 1347,
   "id": "a765e687",
   "metadata": {},
   "outputs": [
    {
     "name": "stdout",
     "output_type": "stream",
     "text": [
      "   ScanDir ID  Site  Gender    Age  Handedness  DX  Secondary Dx  \\\n",
      "0       26001   2.0     1.0  16.92         NaN   3           NaN   \n",
      "1       26002   2.0     1.0  15.68         1.0   2           NaN   \n",
      "2       26004   2.0     0.0  14.99         1.0   0           NaN   \n",
      "3       26005   2.0     0.0  15.16         1.0   2           NaN   \n",
      "4       26009   2.0     1.0  16.91         0.0   1           NaN   \n",
      "\n",
      "   ADHD Measure  ADHD Index  Inattentive  Hyper/Impulsive  IQ Measure  \\\n",
      "0           NaN        43.0          NaN              NaN         NaN   \n",
      "1           NaN        35.0          NaN              NaN         NaN   \n",
      "2           NaN        43.0          NaN              NaN         NaN   \n",
      "3           NaN        54.0          NaN              NaN         NaN   \n",
      "4           NaN        44.0          NaN              NaN         NaN   \n",
      "\n",
      "   Verbal IQ  Performance IQ  Full2 IQ  Full4 IQ  \n",
      "0      133.0           104.0       NaN     120.0  \n",
      "1      106.0           106.0       NaN     107.0  \n",
      "2      119.0           123.0       NaN     125.0  \n",
      "3      116.0           131.0       NaN     126.0  \n",
      "4      113.0            81.0       NaN      97.0  \n"
     ]
    }
   ],
   "source": [
    "#we can see the spaces are replaced with Nan in df1\n",
    "print(df1.head())"
   ]
  },
  {
   "cell_type": "code",
   "execution_count": 1348,
   "id": "0bd46a78",
   "metadata": {},
   "outputs": [
    {
     "name": "stdout",
     "output_type": "stream",
     "text": [
      "Number of rows: 580\n"
     ]
    }
   ],
   "source": [
    "number_of_rows = df1.shape[0]\n",
    "print(\"Number of rows:\", number_of_rows)"
   ]
  },
  {
   "cell_type": "code",
   "execution_count": 1349,
   "id": "ff85e416",
   "metadata": {
    "scrolled": true
   },
   "outputs": [
    {
     "name": "stdout",
     "output_type": "stream",
     "text": [
      "Number of missing values in each column:\n",
      "ScanDir ID           0\n",
      "Site                 3\n",
      "Gender               2\n",
      "Age                  0\n",
      "Handedness           3\n",
      "DX                   0\n",
      "Secondary Dx       580\n",
      "ADHD Measure        60\n",
      "ADHD Index         113\n",
      "Inattentive         60\n",
      "Hyper/Impulsive     60\n",
      "IQ Measure          26\n",
      "Verbal IQ          113\n",
      "Performance IQ     113\n",
      "Full2 IQ           529\n",
      "Full4 IQ             0\n",
      "dtype: int64\n"
     ]
    }
   ],
   "source": [
    "# INSERT CODE TO COUNT THE NUMBER OF MISSING VALUES IN EACH COLUMN (use google)\n",
    "# Count missing values in each column\n",
    "missing_values = df1.isna().sum()\n",
    "\n",
    "# Print the res697ult\n",
    "print(\"Number of missing values in each column:\")\n",
    "print(missing_values)\n"
   ]
  },
  {
   "cell_type": "markdown",
   "id": "ed2c7bfe",
   "metadata": {},
   "source": [
    "There are totally 580 rows. we can see there are 529 missing values in Full2 IQ and 454 missing values in Secondary Dx. we can remove them as its a lot of missing values, about 80% or more. On top of it these variables are very important for our predictions"
   ]
  },
  {
   "cell_type": "code",
   "execution_count": 1350,
   "id": "0ab03302",
   "metadata": {},
   "outputs": [],
   "source": [
    "df1 = df1.drop('Secondary Dx', axis=1)\n",
    "df1 = df1.drop('Full2 IQ', axis=1)\n",
    "df1 = df1.drop('ScanDir ID', axis=1)\n",
    "df1 = df1.drop('ADHD Measure', axis=1)"
   ]
  },
  {
   "cell_type": "code",
   "execution_count": 1351,
   "id": "30672425",
   "metadata": {},
   "outputs": [],
   "source": [
    "#remove the rows with missing values in gender and handedness as its only few rows\n",
    "df1 = df1.dropna(subset=['Gender'])\n",
    "df1 = df1.dropna(subset=['Handedness'])\n",
    "df1 = df1.dropna(subset=['Site'])"
   ]
  },
  {
   "cell_type": "code",
   "execution_count": 1352,
   "id": "88ba1f7c",
   "metadata": {},
   "outputs": [
    {
     "data": {
      "text/plain": [
       "Index(['Site', 'Gender', 'Age', 'Handedness', 'DX', 'ADHD Index',\n",
       "       'Inattentive', 'Hyper/Impulsive', 'IQ Measure', 'Verbal IQ',\n",
       "       'Performance IQ', 'Full4 IQ'],\n",
       "      dtype='object')"
      ]
     },
     "execution_count": 1352,
     "metadata": {},
     "output_type": "execute_result"
    }
   ],
   "source": [
    "df1.columns"
   ]
  },
  {
   "cell_type": "markdown",
   "id": "c4c03c0c",
   "metadata": {},
   "source": [
    "Fill missing values in all columns with column means, median or mode according to the variable type and distribution"
   ]
  },
  {
   "cell_type": "markdown",
   "id": "d1549ae7",
   "metadata": {},
   "source": [
    "continous variables that have missing values\n",
    "ADHD Index\n",
    "Inattentive         60\n",
    "Hyper/Impulsive     60\n",
    "IQ Measure          26\n",
    "Verbal IQ          113\n",
    "Performance IQ     113"
   ]
  },
  {
   "cell_type": "code",
   "execution_count": 1353,
   "id": "c190cb54",
   "metadata": {},
   "outputs": [
    {
     "data": {
      "image/png": "[encoded data removed]",
      "text/plain": [
       "<Figure size 640x480 with 1 Axes>"
      ]
     },
     "metadata": {},
     "output_type": "display_data"
    }
   ],
   "source": [
    "# Specify the number of bins\n",
    "\n",
    "# Create a histogram\n",
    "# Uncomment this section if using Seaborn\n",
    "sns.histplot(df1['ADHD Index'], bins='auto')\n",
    "plt.title('Histogram of NumericColumn')\n",
    "plt.xlim([0, 100])\n",
    "plt.xlabel('NumericColumn Values')\n",
    "plt.xticks([0, 20, 40, 60, 80, 100])\n",
    "plt.ylabel('Frequency')\n",
    "plt.show()\n",
    "\n",
    "\n"
   ]
  },
  {
   "cell_type": "code",
   "execution_count": 1354,
   "id": "b25f13d8",
   "metadata": {},
   "outputs": [
    {
     "name": "stdout",
     "output_type": "stream",
     "text": [
      "Shapiro-Wilk Test p-value: 1.0\n"
     ]
    }
   ],
   "source": [
    "#p value is 1 indicating that the data is normally distributed\n",
    "shapiro_test = stats.shapiro(df1['ADHD Index'])\n",
    "print(\"Shapiro-Wilk Test p-value:\", shapiro_test.pvalue)"
   ]
  },
  {
   "cell_type": "code",
   "execution_count": 1355,
   "id": "26c0df1f",
   "metadata": {},
   "outputs": [],
   "source": [
    "# Calculate the median of the column\n",
    "median_adhd_index = df1['ADHD Index'].mean()\n",
    "\n",
    "# Replace missing (NaN) values or a specific value with the median as ADHD Index distribution is skewed.\n",
    "df1['ADHD Index'].fillna(median_adhd_index, inplace=True)\n"
   ]
  },
  {
   "cell_type": "code",
   "execution_count": 1356,
   "id": "ef8fabc2",
   "metadata": {},
   "outputs": [
    {
     "data": {
      "image/png": "[encoded data removed]",
      "text/plain": [
       "<Figure size 640x480 with 1 Axes>"
      ]
     },
     "metadata": {},
     "output_type": "display_data"
    }
   ],
   "source": [
    "# Create a histogram\n",
    "# Uncomment this section if using Seaborn\n",
    "sns.histplot(df1['Verbal IQ'], bins='auto')\n",
    "plt.title('Histogram of NumericColumn')\n",
    "plt.xlim([-200, 300])\n",
    "plt.xlabel('NumericColumn Values')\n",
    "#plt.xticks([0, 20, 40, 60, 80, 100])\n",
    "plt.ylabel('Frequency')\n",
    "plt.show()\n"
   ]
  },
  {
   "cell_type": "code",
   "execution_count": 1357,
   "id": "4531f251",
   "metadata": {},
   "outputs": [],
   "source": [
    "# Calculate the median of the column\n",
    "mean_verbal_iq = df1['Verbal IQ'].mean()\n",
    "\n",
    "# Replace missing (NaN) values or a specific value with the mean_verbal_iq.\n",
    "df1['Verbal IQ'].fillna(mean_verbal_iq, inplace=True)\n"
   ]
  },
  {
   "cell_type": "code",
   "execution_count": 1358,
   "id": "a0e452ad",
   "metadata": {},
   "outputs": [
    {
     "data": {
      "image/png": "[encoded data removed]",
      "text/plain": [
       "<Figure size 640x480 with 1 Axes>"
      ]
     },
     "metadata": {},
     "output_type": "display_data"
    }
   ],
   "source": [
    "# Create a histogram\n",
    "# Uncomment this section if using Seaborn\n",
    "sns.histplot(df1['Inattentive'], bins='auto')\n",
    "plt.title('Histogram of NumericColumn')\n",
    "plt.xlim([-200, 300])\n",
    "plt.xlabel('NumericColumn Values')\n",
    "#plt.xticks([0, 20, 40, 60, 80, 100])\n",
    "plt.ylabel('Frequency')\n",
    "plt.show()\n"
   ]
  },
  {
   "cell_type": "code",
   "execution_count": 1359,
   "id": "3e9e3424",
   "metadata": {},
   "outputs": [
    {
     "name": "stdout",
     "output_type": "stream",
     "text": [
      "Shapiro-Wilk Test p-value: 1.0\n"
     ]
    }
   ],
   "source": [
    "#p value from this test is high, indicating that the data is normally distributed\n",
    "shapiro_test = stats.shapiro(df1['Inattentive'])\n",
    "print(\"Shapiro-Wilk Test p-value:\", shapiro_test.pvalue)\n"
   ]
  },
  {
   "cell_type": "code",
   "execution_count": 1360,
   "id": "9a61e929",
   "metadata": {},
   "outputs": [],
   "source": [
    "# Calculate the median of the column\n",
    "mean_inattentive = df1['Inattentive'].mean()\n",
    "\n",
    "# Replace missing (NaN) values or a specific value with the mean.\n",
    "df1['Inattentive'].fillna(mean_inattentive, inplace=True)\n"
   ]
  },
  {
   "cell_type": "code",
   "execution_count": 1361,
   "id": "39e2e07a",
   "metadata": {},
   "outputs": [
    {
     "data": {
      "image/png": "[encoded data removed]",
      "text/plain": [
       "<Figure size 640x480 with 1 Axes>"
      ]
     },
     "metadata": {},
     "output_type": "display_data"
    }
   ],
   "source": [
    "# Create a histogram\n",
    "# Uncomment this section if using Seaborn\n",
    "sns.histplot(df1['Hyper/Impulsive'], bins='auto')\n",
    "plt.title('Histogram of NumericColumn')\n",
    "plt.xlim([-200, 300])\n",
    "plt.xlabel('NumericColumn Values')\n",
    "#plt.xticks([0, 20, 40, 60, 80, 100])\n",
    "plt.ylabel('Frequency')\n",
    "plt.show()"
   ]
  },
  {
   "cell_type": "code",
   "execution_count": 1362,
   "id": "003ea2b2",
   "metadata": {},
   "outputs": [
    {
     "name": "stdout",
     "output_type": "stream",
     "text": [
      "Shapiro-Wilk Test p-value: 1.0\n"
     ]
    }
   ],
   "source": [
    "#p value from this test is high, indicating that the data is normally distributed\n",
    "shapiro_test = stats.shapiro(df1['Hyper/Impulsive'])\n",
    "print(\"Shapiro-Wilk Test p-value:\", shapiro_test.pvalue)"
   ]
  },
  {
   "cell_type": "code",
   "execution_count": 1363,
   "id": "2e07eeb4",
   "metadata": {},
   "outputs": [],
   "source": [
    "# Calculate the median of the column\n",
    "mean_impulsive = df1['Hyper/Impulsive'].mean()\n",
    "\n",
    "# Replace missing (NaN) values or a specific value with the mean.\n",
    "df1['Hyper/Impulsive'].fillna(mean_impulsive, inplace=True)\n"
   ]
  },
  {
   "cell_type": "code",
   "execution_count": 1364,
   "id": "296d5b99",
   "metadata": {},
   "outputs": [],
   "source": [
    "# Calculate the median of the column\n",
    "mean_iq = df1['IQ Measure'].mean()\n",
    "\n",
    "# Replace missing (NaN) values or a specific value with the mean.\n",
    "df1['IQ Measure'].fillna(mean_iq, inplace=True)\n"
   ]
  },
  {
   "cell_type": "code",
   "execution_count": 1365,
   "id": "8097dcad",
   "metadata": {},
   "outputs": [
    {
     "data": {
      "image/png": "[encoded data removed]",
      "text/plain": [
       "<Figure size 640x480 with 1 Axes>"
      ]
     },
     "metadata": {},
     "output_type": "display_data"
    }
   ],
   "source": [
    "sns.histplot(df1['Performance IQ'], bins='auto')\n",
    "plt.title('Histogram of NumericColumn')\n",
    "plt.xlim([-200, 300])\n",
    "plt.xlabel('NumericColumn Values')\n",
    "#plt.xticks([0, 20, 40, 60, 80, 100])\n",
    "plt.ylabel('Frequency')\n",
    "plt.show()"
   ]
  },
  {
   "cell_type": "code",
   "execution_count": 1366,
   "id": "abe4acf4",
   "metadata": {},
   "outputs": [],
   "source": [
    "# Calculate the median of the column\n",
    "mean_performance_iq = df1['Performance IQ'].mean()\n",
    "\n",
    "# Replace missing (NaN) values or a specific value with the median as ADHD Index distribution is skewed.\n",
    "df1['Performance IQ'].fillna(mean_performance_iq, inplace=True)\n"
   ]
  },
  {
   "cell_type": "code",
   "execution_count": 1367,
   "id": "9254e09c",
   "metadata": {},
   "outputs": [
    {
     "name": "stdout",
     "output_type": "stream",
     "text": [
      "Number of missing values in each column:\n",
      "Site               0\n",
      "Gender             0\n",
      "Age                0\n",
      "Handedness         0\n",
      "DX                 0\n",
      "ADHD Index         0\n",
      "Inattentive        0\n",
      "Hyper/Impulsive    0\n",
      "IQ Measure         0\n",
      "Verbal IQ          0\n",
      "Performance IQ     0\n",
      "Full4 IQ           0\n",
      "dtype: int64\n"
     ]
    }
   ],
   "source": [
    "# INSERT CODE TO COUNT THE NUMBER OF MISSING VALUES IN EACH COLUMN (use google)\n",
    "# Count missing values in each column\n",
    "missing_values = df1.isna().sum()\n",
    "\n",
    "# Print the result\n",
    "print(\"Number of missing values in each column:\")\n",
    "print(missing_values)\n"
   ]
  },
  {
   "cell_type": "code",
   "execution_count": 1368,
   "id": "b6e69968",
   "metadata": {},
   "outputs": [
    {
     "name": "stdout",
     "output_type": "stream",
     "text": [
      "             Site      Gender         Age  Handedness          DX  ADHD Index  \\\n",
      "count  573.000000  573.000000  573.000000  573.000000  573.000000  573.000000   \n",
      "mean     3.844677    0.558464   10.910070   -9.624520    0.806283    8.066304   \n",
      "std      1.894589    0.497004    2.534535  101.865249    1.109004  188.029098   \n",
      "min      1.000000    0.000000    7.170000 -999.000000    0.000000 -999.000000   \n",
      "25%      2.000000    0.000000    8.920000    0.750000    0.000000   22.000000   \n",
      "50%      5.000000    1.000000   10.330000    1.000000    0.000000   42.000000   \n",
      "75%      5.000000    1.000000   12.330000    1.000000    1.000000   58.000000   \n",
      "max      6.000000    1.000000   17.960000    2.000000    3.000000   99.000000   \n",
      "\n",
      "       Inattentive  Hyper/Impulsive  IQ Measure   Verbal IQ  Performance IQ  \\\n",
      "count   573.000000       573.000000  573.000000  573.000000      573.000000   \n",
      "mean      9.948444         8.638132    0.100365   75.571739       83.647826   \n",
      "std     188.399221       188.225790   41.816981  147.304776      145.336822   \n",
      "min    -999.000000      -999.000000 -999.000000 -999.000000     -999.000000   \n",
      "25%      20.000000        17.000000    1.000000   75.571739       83.647826   \n",
      "50%      43.000000        44.000000    2.000000  104.000000      103.000000   \n",
      "75%      63.000000        60.000000    2.000000  117.000000      115.000000   \n",
      "max      90.000000        90.000000    3.000000  146.000000      146.000000   \n",
      "\n",
      "         Full4 IQ  \n",
      "count  573.000000  \n",
      "mean    -5.562304  \n",
      "std    340.310371  \n",
      "min   -999.000000  \n",
      "25%     97.000000  \n",
      "50%    108.000000  \n",
      "75%    120.000000  \n",
      "max    144.000000  \n"
     ]
    }
   ],
   "source": [
    "print(df1.describe())"
   ]
  },
  {
   "cell_type": "code",
   "execution_count": 1369,
   "id": "0e081153",
   "metadata": {},
   "outputs": [
    {
     "name": "stdout",
     "output_type": "stream",
     "text": [
      "573\n"
     ]
    }
   ],
   "source": [
    "print(df1.shape[0])"
   ]
  },
  {
   "cell_type": "code",
   "execution_count": 1370,
   "id": "3f939a28",
   "metadata": {},
   "outputs": [
    {
     "name": "stdout",
     "output_type": "stream",
     "text": [
      "Site: 0 outliers\n",
      "Gender: 0 outliers\n",
      "Age: 10 outliers\n",
      "Handedness: 54 outliers\n",
      "DX: 97 outliers\n",
      "ADHD Index: 19 outliers\n",
      "Inattentive: 19 outliers\n",
      "Hyper/Impulsive: 19 outliers\n",
      "IQ Measure: 1 outliers\n",
      "Verbal IQ: 60 outliers\n",
      "Performance IQ: 10 outliers\n",
      "Full4 IQ: 60 outliers\n"
     ]
    }
   ],
   "source": [
    "\n",
    "\n",
    "def count_outliers(data):\n",
    "    for column in data.columns:\n",
    "        if data[column].dtype in ['int64', 'float64']:  # Check if the column is numeric\n",
    "            Q1 = data[column].quantile(0.25)\n",
    "            Q3 = data[column].quantile(0.75)\n",
    "            IQR = Q3 - Q1\n",
    "            lower_bound = Q1 - 1.5 * IQR\n",
    "            upper_bound = Q3 + 1.5 * IQR\n",
    "            outliers = data[(data[column] < lower_bound) | (data[column] > upper_bound)]\n",
    "            print(f\"{column}: {len(outliers)} outliers\")\n",
    "\n",
    "# Example usage:\n",
    "# df = pd.DataFrame({your_data})\n",
    "count_outliers(df1)\n"
   ]
  },
  {
   "cell_type": "markdown",
   "id": "b2ba842b",
   "metadata": {},
   "source": [
    "Verbal IQ generally has values between 114 and 180, but the values below are very erroneous, which must be replaced."
   ]
  },
  {
   "cell_type": "code",
   "execution_count": 1371,
   "id": "1d85af78",
   "metadata": {},
   "outputs": [
    {
     "name": "stdout",
     "output_type": "stream",
     "text": [
      "Outliers in 'values' column:\n",
      " 204   -999.0\n",
      "230   -999.0\n",
      "234   -999.0\n",
      "246   -999.0\n",
      "267   -999.0\n",
      "268   -999.0\n",
      "281   -999.0\n",
      "291   -999.0\n",
      "301   -999.0\n",
      "328   -999.0\n",
      "529      3.0\n",
      "530      3.0\n",
      "531      3.0\n",
      "532      3.0\n",
      "533      3.0\n",
      "534      3.0\n",
      "535      3.0\n",
      "536      3.0\n",
      "537      3.0\n",
      "538      3.0\n",
      "539      3.0\n",
      "540      3.0\n",
      "541      3.0\n",
      "542      3.0\n",
      "543      3.0\n",
      "544      3.0\n",
      "545      3.0\n",
      "546      3.0\n",
      "547      3.0\n",
      "548      3.0\n",
      "549      3.0\n",
      "550      3.0\n",
      "551      3.0\n",
      "552      3.0\n",
      "553      3.0\n",
      "554      3.0\n",
      "555      3.0\n",
      "556      3.0\n",
      "557      3.0\n",
      "558      3.0\n",
      "559      3.0\n",
      "560      3.0\n",
      "561      3.0\n",
      "562      3.0\n",
      "563      3.0\n",
      "564      3.0\n",
      "565      3.0\n",
      "566      3.0\n",
      "567      3.0\n",
      "568      3.0\n",
      "569      3.0\n",
      "570      3.0\n",
      "571      3.0\n",
      "572      3.0\n",
      "574      3.0\n",
      "575      3.0\n",
      "576      3.0\n",
      "577      3.0\n",
      "578      3.0\n",
      "579      3.0\n",
      "Name: Verbal IQ, dtype: float64\n"
     ]
    }
   ],
   "source": [
    "def find_outliers_iqr(df, column):\n",
    "    Q1 = df[column].quantile(0.25)\n",
    "    Q3 = df[column].quantile(0.75)\n",
    "    IQR = Q3 - Q1\n",
    "    lower_bound = Q1 - 1.5 * IQR\n",
    "    upper_bound = Q3 + 1.5 * IQR\n",
    "    \n",
    "    outliers = df[(df[column] < lower_bound) | (df[column] > upper_bound)]\n",
    "    return outliers[column]  # Return only the specified column of outliers\n",
    "\n",
    "# Applying the function to the 'values' column\n",
    "outliers_in_verbal_iq = find_outliers_iqr(df1, 'Verbal IQ')\n",
    "\n",
    "# Print the outliers from 'values' column\n",
    "print(\"Outliers in 'values' column:\\n\", outliers_in_verbal_iq)\n"
   ]
  },
  {
   "cell_type": "code",
   "execution_count": 1372,
   "id": "70b7e508",
   "metadata": {},
   "outputs": [
    {
     "data": {
      "image/png": "[encoded data removed]",
      "text/plain": [
       "<Figure size 640x480 with 1 Axes>"
      ]
     },
     "metadata": {},
     "output_type": "display_data"
    }
   ],
   "source": [
    "# Create a boxplot to identify outliers\n",
    "\n",
    "# dots represent outliers\n",
    "sns.boxplot(x=df1['Performance IQ'])\n",
    "# dots represent outliers\n",
    "\n",
    "# Set the title\n",
    "plt.title('Boxplot of Performance IQ')\n",
    "\n",
    "# Show the boxplot\n",
    "plt.show()"
   ]
  },
  {
   "cell_type": "code",
   "execution_count": 1373,
   "id": "3ec16d70",
   "metadata": {},
   "outputs": [
    {
     "name": "stdout",
     "output_type": "stream",
     "text": [
      "204   -999.0\n",
      "230   -999.0\n",
      "234   -999.0\n",
      "246   -999.0\n",
      "267   -999.0\n",
      "268   -999.0\n",
      "281   -999.0\n",
      "291   -999.0\n",
      "301   -999.0\n",
      "328   -999.0\n",
      "Name: Performance IQ, dtype: float64\n"
     ]
    }
   ],
   "source": [
    "outliers_in_performace_iq = find_outliers_iqr(df1, 'Performance IQ')\n",
    "print(outliers_in_performace_iq)"
   ]
  },
  {
   "cell_type": "markdown",
   "id": "4f5480b1",
   "metadata": {},
   "source": [
    "These above values in performace IQ are erroneous values that can be removed. Since they are clearly wrong, they wont provide any insights."
   ]
  },
  {
   "cell_type": "code",
   "execution_count": 1374,
   "id": "65ae80cc",
   "metadata": {},
   "outputs": [
    {
     "data": {
      "image/png": "[encoded data removed]",
      "text/plain": [
       "<Figure size 640x480 with 1 Axes>"
      ]
     },
     "metadata": {},
     "output_type": "display_data"
    }
   ],
   "source": [
    "sns.boxplot(x=df1['Inattentive'])\n",
    "# dots represent outliers\n",
    "\n",
    "# Set the title\n",
    "plt.title('Boxplot of Inattentive column')\n",
    "\n",
    "# Show the boxplot\n",
    "plt.show()"
   ]
  },
  {
   "cell_type": "code",
   "execution_count": 1375,
   "id": "b9ee6479",
   "metadata": {},
   "outputs": [],
   "source": [
    "def replace_outliers_with_nan(df, column):\n",
    "    Q1 = df[column].quantile(0.25)\n",
    "    Q3 = df[column].quantile(0.75)\n",
    "    IQR = Q3 - Q1\n",
    "    lower_bound = Q1 - 1.5 * IQR\n",
    "    upper_bound = Q3 + 1.5 * IQR\n",
    "    df.loc[(df[column] < lower_bound) | (df[column] > upper_bound), column] = np.nan\n",
    "    return df\n",
    "\n",
    "# Applying the function to each column\n",
    "for col in df1.columns:\n",
    "    df1 = replace_outliers_with_nan(df1, col)"
   ]
  },
  {
   "cell_type": "code",
   "execution_count": 1376,
   "id": "9a91702b",
   "metadata": {},
   "outputs": [
    {
     "name": "stdout",
     "output_type": "stream",
     "text": [
      "Number of missing values in each column:\n",
      "Site                0\n",
      "Gender              0\n",
      "Age                10\n",
      "Handedness         54\n",
      "DX                 97\n",
      "ADHD Index         19\n",
      "Inattentive        19\n",
      "Hyper/Impulsive    19\n",
      "IQ Measure          1\n",
      "Verbal IQ          60\n",
      "Performance IQ     10\n",
      "Full4 IQ           60\n",
      "dtype: int64\n"
     ]
    }
   ],
   "source": [
    "missing_values = df1.isna().sum()\n",
    "\n",
    "# Print the res697ult\n",
    "print(\"Number of missing values in each column:\")\n",
    "print(missing_values)\n"
   ]
  },
  {
   "cell_type": "code",
   "execution_count": 1377,
   "id": "5e0a2373",
   "metadata": {},
   "outputs": [],
   "source": [
    "# Replace missing (NaN) values or a specific value with the median as ADHD Index distribution is skewed.\n",
    "df1['Performance IQ'].fillna(df1['Performance IQ'].mean(), inplace=True)\n",
    "df1['Age'].fillna(df1['Age'].mean(), inplace=True)\n",
    "df1['Handedness'].fillna(df1['Handedness'].mode(), inplace=True)\n",
    "df1['DX'].fillna(df1['DX'].mode(), inplace=True)\n",
    "df1['ADHD Index'].fillna(df1['ADHD Index'].mean(), inplace=True)\n",
    "df1['Inattentive'].fillna(df1['Inattentive'].mean(), inplace=True)\n",
    "df1['Hyper/Impulsive'].fillna(df1['Hyper/Impulsive'].mean(), inplace=True)\n",
    "df1['Verbal IQ'].fillna(df1['Verbal IQ'].mean(), inplace=True)\n",
    "df1['Full4 IQ'].fillna(df1['Full4 IQ'].mean(), inplace=True)"
   ]
  },
  {
   "cell_type": "code",
   "execution_count": 1378,
   "id": "0d1f4b2c",
   "metadata": {},
   "outputs": [
    {
     "name": "stdout",
     "output_type": "stream",
     "text": [
      "   Site  Gender    Age  Handedness   DX  ADHD Index  Inattentive  \\\n",
      "1   2.0     1.0  15.68         1.0  2.0        35.0     9.948444   \n",
      "2   2.0     0.0  14.99         1.0  0.0        43.0     9.948444   \n",
      "3   2.0     0.0  15.16         1.0  2.0        54.0     9.948444   \n",
      "4   2.0     1.0  16.91         NaN  1.0        44.0     9.948444   \n",
      "5   2.0     0.0  16.21         1.0  0.0        43.0     9.948444   \n",
      "\n",
      "   Hyper/Impulsive  IQ Measure  Verbal IQ  Performance IQ  Full4 IQ  \n",
      "1         8.638132    0.100365      106.0           106.0     107.0  \n",
      "2         8.638132    0.100365      119.0           123.0     125.0  \n",
      "3         8.638132    0.100365      116.0           131.0     126.0  \n",
      "4         8.638132    0.100365      113.0            81.0      97.0  \n",
      "5         8.638132    0.100365      101.0           102.0     102.0  \n"
     ]
    }
   ],
   "source": [
    "print(df1.head())"
   ]
  },
  {
   "cell_type": "code",
   "execution_count": 1379,
   "id": "b6436b5d",
   "metadata": {
    "scrolled": true
   },
   "outputs": [
    {
     "name": "stdout",
     "output_type": "stream",
     "text": [
      "   Site  Gender    Age  Handedness   DX  ADHD Index  Inattentive  \\\n",
      "1   2.0     1.0  15.68         1.0  2.0        35.0     9.948444   \n",
      "2   2.0     0.0  14.99         1.0  0.0        43.0     9.948444   \n",
      "3   2.0     0.0  15.16         1.0  2.0        54.0     9.948444   \n",
      "4   2.0     1.0  16.91         NaN  1.0        44.0     9.948444   \n",
      "5   2.0     0.0  16.21         1.0  0.0        43.0     9.948444   \n",
      "\n",
      "   Hyper/Impulsive  IQ Measure  Verbal IQ  Performance IQ  Full4 IQ  \n",
      "1         8.638132    0.100365      106.0           106.0     107.0  \n",
      "2         8.638132    0.100365      119.0           123.0     125.0  \n",
      "3         8.638132    0.100365      116.0           131.0     126.0  \n",
      "4         8.638132    0.100365      113.0            81.0      97.0  \n",
      "5         8.638132    0.100365      101.0           102.0     102.0  \n"
     ]
    }
   ],
   "source": [
    "#the final cleaned dataset\n",
    "print(df1.head())"
   ]
  },
  {
   "cell_type": "code",
   "execution_count": 1380,
   "id": "e7eb67e5",
   "metadata": {},
   "outputs": [
    {
     "data": {
      "text/plain": [
       "Index(['Site', 'Gender', 'Age', 'Handedness', 'DX', 'ADHD Index',\n",
       "       'Inattentive', 'Hyper/Impulsive', 'IQ Measure', 'Verbal IQ',\n",
       "       'Performance IQ', 'Full4 IQ'],\n",
       "      dtype='object')"
      ]
     },
     "execution_count": 1380,
     "metadata": {},
     "output_type": "execute_result"
    }
   ],
   "source": [
    "df1.columns"
   ]
  },
  {
   "cell_type": "code",
   "execution_count": 1381,
   "id": "3a350ae7",
   "metadata": {},
   "outputs": [
    {
     "name": "stdout",
     "output_type": "stream",
     "text": [
      "Site: 0 outliers\n",
      "Gender: 0 outliers\n",
      "Age: 9 outliers\n",
      "Handedness: 64 outliers\n",
      "DX: 0 outliers\n",
      "ADHD Index: 0 outliers\n",
      "Inattentive: 0 outliers\n",
      "Hyper/Impulsive: 0 outliers\n",
      "IQ Measure: 0 outliers\n",
      "Verbal IQ: 0 outliers\n",
      "Performance IQ: 0 outliers\n",
      "Full4 IQ: 1 outliers\n"
     ]
    }
   ],
   "source": [
    "count_outliers(df1)"
   ]
  },
  {
   "cell_type": "code",
   "execution_count": 1382,
   "id": "64513ff4",
   "metadata": {},
   "outputs": [],
   "source": [
    "import pandas as pd\n",
    "\n",
    "def remove_outliers(df, column):\n",
    "    Q1 = df[column].quantile(0.25)\n",
    "    Q3 = df[column].quantile(0.75)\n",
    "    IQR = Q3 - Q1\n",
    "\n",
    "    # Define bounds for outliers\n",
    "    lower_bound = Q1 - 1.5 * IQR\n",
    "    upper_bound = Q3 + 1.5 * IQR\n",
    "\n",
    "    # Filter out outliers\n",
    "    filtered_df = df[(df[column] >= lower_bound) & (df[column] <= upper_bound)]\n",
    "    return filtered_df\n",
    "\n",
    "clean_df = remove_outliers(clean_df, 'Handedness')\n",
    "df1 = clean_df"
   ]
  },
  {
   "cell_type": "code",
   "execution_count": 1383,
   "id": "57d3b216",
   "metadata": {},
   "outputs": [
    {
     "name": "stdout",
     "output_type": "stream",
     "text": [
      "Site: 0 outliers\n",
      "Gender: 0 outliers\n",
      "Age: 1 outliers\n",
      "Handedness: 0 outliers\n",
      "DX: 0 outliers\n",
      "ADHD Index: 0 outliers\n",
      "Inattentive: 0 outliers\n",
      "Hyper/Impulsive: 0 outliers\n",
      "IQ Measure: 0 outliers\n",
      "Verbal IQ: 0 outliers\n",
      "Performance IQ: 0 outliers\n",
      "Full4 IQ: 0 outliers\n"
     ]
    }
   ],
   "source": [
    "count_outliers(clean_df)"
   ]
  },
  {
   "cell_type": "code",
   "execution_count": 1384,
   "id": "80ad9bf7",
   "metadata": {},
   "outputs": [
    {
     "data": {
      "text/plain": [
       "Site                0\n",
       "Gender              0\n",
       "Age                 0\n",
       "Handedness          0\n",
       "DX                 54\n",
       "ADHD Index          0\n",
       "Inattentive         0\n",
       "Hyper/Impulsive     0\n",
       "IQ Measure          0\n",
       "Verbal IQ           0\n",
       "Performance IQ      0\n",
       "Full4 IQ            0\n",
       "dtype: int64"
      ]
     },
     "execution_count": 1384,
     "metadata": {},
     "output_type": "execute_result"
    }
   ],
   "source": [
    "df1.isna().sum()"
   ]
  },
  {
   "cell_type": "code",
   "execution_count": 1385,
   "id": "fa818502",
   "metadata": {},
   "outputs": [],
   "source": [
    "df1.to_csv('../../data/01-modified-data/combined_data_clean00.csv', index=False)"
   ]
  },
  {
   "cell_type": "code",
   "execution_count": null,
   "id": "d9c3d50c",
   "metadata": {},
   "outputs": [],
   "source": []
  }
 ],
 "metadata": {
  "kernelspec": {
   "display_name": "Python 3 (ipykernel)",
   "language": "python",
   "name": "python3"
  },
  "language_info": {
   "codemirror_mode": {
    "name": "ipython",
    "version": 3
   },
   "file_extension": ".py",
   "mimetype": "text/x-python",
   "name": "python",
   "nbconvert_exporter": "python",
   "pygments_lexer": "ipython3",
   "version": "3.11.4"
  }
 },
 "nbformat": 4,
 "nbformat_minor": 5
}
