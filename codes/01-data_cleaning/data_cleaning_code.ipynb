{
 "cells": [
  {
   "cell_type": "code",
   "execution_count": 213,
   "id": "08d7d807",
   "metadata": {},
   "outputs": [],
   "source": [
    "import pandas as pd\n",
    "import random as random\n",
    "import numpy as np"
   ]
  },
  {
   "cell_type": "code",
   "execution_count": 214,
   "id": "6448ae13",
   "metadata": {},
   "outputs": [
    {
     "name": "stdout",
     "output_type": "stream",
     "text": [
      "   ScanDir ID  Site  Gender    Age Handedness  DX Secondary Dx  ADHD Measure  \\\n",
      "0       26001     2       1  16.92        usa   3       pending      pending   \n",
      "1       26002     2       1  15.68          1   2       pending      pending   \n",
      "2       26004     2       0  14.99          1   0       pending      pending   \n",
      "3       26005     2       0  15.16          1   2       pending      pending   \n",
      "4       26009     2       1  16.91          0   1       pending      pending   \n",
      "\n",
      "   ADHD Index Inattentive  ... Performance IQ  Full2 IQ  Full4 IQ  Med Status  \\\n",
      "0          43     pending  ...            104       NaN       120     pending   \n",
      "1          35     pending  ...            106       NaN       107     pending   \n",
      "2          43     pending  ...            123       NaN       125     pending   \n",
      "3          54     pending  ...            131                 126     pending   \n",
      "4          44     pending  ...             81       NaN        97     pending   \n",
      "\n",
      "  QC_Rest_1  QC_Rest_2 QC_Rest_3  QC_Rest_4  QC_Anatomical_1  QC_Anatomical_2  \n",
      "0         1        NaN       NaN        NaN                1              NaN  \n",
      "1         1        NaN       NaN        NaN                1              NaN  \n",
      "2         1        NaN       NaN        NaN                1              NaN  \n",
      "3         1        NaN       NaN        NaN                1              NaN  \n",
      "4         1        NaN       NaN        NaN                1              NaN  \n",
      "\n",
      "[5 rows x 23 columns]\n"
     ]
    }
   ],
   "source": [
    "# Specify the path to your CSV file\n",
    "csv_file_path = '../../data/00-raw-data/Brown_TestRelease_phenotypic.csv'\n",
    "\n",
    "# Use the read_csv function to read the CSV file into a DataFrame\n",
    "df1 = pd.read_csv(csv_file_path)\n",
    "\n",
    "print(df1.head())\n",
    "\n",
    "\n",
    "\n"
   ]
  },
  {
   "cell_type": "code",
   "execution_count": 215,
   "id": "8cab0dd8",
   "metadata": {
    "scrolled": true
   },
   "outputs": [
    {
     "name": "stdout",
     "output_type": "stream",
     "text": [
      "   scan_dir_id  site gender    age  handedness  dx   secondary_dx  \\\n",
      "0      2371032   NaN    num  10.73           1   0            NaN   \n",
      "1      2026113   3.0      0  12.99           1   1            NaN   \n",
      "2      3434578   3.0      0   8.12           1   0            NaN   \n",
      "3      8628223   NaN      0  10.81           1   0  Simple phobia   \n",
      "4      1623716   3.0      0  12.65           1   1            NaN   \n",
      "\n",
      "   adhd_measure  adhd_index  inattentive  ...  performance_iq  full2_iq  \\\n",
      "0             2          47           55  ...             119       NaN   \n",
      "1             2          90           89  ...             108       NaN   \n",
      "2             2          42           42  ...              98       NaN   \n",
      "3             2          42           49  ...              86       NaN   \n",
      "4             2          87           90  ...              88       NaN   \n",
      "\n",
      "   full4_iq  med_status  qc_rest_1  qc_rest_2  qc_rest_3  qc_rest_4  \\\n",
      "0       122           1          1        NaN        NaN        NaN   \n",
      "1       106           1          1        NaN        NaN        NaN   \n",
      "2        89           1          1        NaN        NaN        NaN   \n",
      "3        97           1          1        NaN        NaN        NaN   \n",
      "4        89           1          1        NaN        NaN        NaN   \n",
      "\n",
      "   qc_anatomical_1  qc_anatomical_2  \n",
      "0                1              NaN  \n",
      "1                1              NaN  \n",
      "2                1              NaN  \n",
      "3                1              NaN  \n",
      "4                1              NaN  \n",
      "\n",
      "[5 rows x 23 columns]\n"
     ]
    }
   ],
   "source": [
    "# Specify the path to your CSV file\n",
    "csv_file_path = '../../data/00-raw-data/KKI_phenotypic.csv'\n",
    "\n",
    "# Use the read_csv function to read the CSV file into a DataFrame\n",
    "df2 = pd.read_csv(csv_file_path)\n",
    "\n",
    "print(df2.head())"
   ]
  },
  {
   "cell_type": "code",
   "execution_count": 216,
   "id": "3e1fbab1",
   "metadata": {},
   "outputs": [],
   "source": [
    "# Specify the path to your CSV file\n",
    "csv_file_path = '../../data/00-raw-data/NYU_phenotypic.csv'\n",
    "\n",
    "# Use the read_csv function to read the CSV file into a DataFrame\n",
    "df3 = pd.read_csv(csv_file_path)"
   ]
  },
  {
   "cell_type": "code",
   "execution_count": 217,
   "id": "11b76af5",
   "metadata": {},
   "outputs": [],
   "source": [
    "csv_file_path = '../../data/00-raw-data/OHSU_phenotypic.csv'\n",
    "\n",
    "df4 = pd.read_csv(csv_file_path)"
   ]
  },
  {
   "cell_type": "code",
   "execution_count": 218,
   "id": "6e393df1",
   "metadata": {},
   "outputs": [],
   "source": [
    "csv_file_path = '../../data/00-raw-data/OHSU_TestRelease_phenotypic.csv'\n",
    "\n",
    "# Use the read_csv function to read the CSV file into a DataFrame\n",
    "df5 = pd.read_csv(csv_file_path)"
   ]
  },
  {
   "cell_type": "code",
   "execution_count": 219,
   "id": "9dc3702f",
   "metadata": {},
   "outputs": [],
   "source": [
    "# Specify the path to your CSV file\n",
    "csv_file_path = '../../data/00-raw-data/Peking_1_phenotypic.csv'\n",
    "\n",
    "# Use the read_csv function to read the CSV file into a DataFrame\n",
    "df6 = pd.read_csv(csv_file_path)\n"
   ]
  },
  {
   "cell_type": "code",
   "execution_count": 220,
   "id": "80b91a0c",
   "metadata": {},
   "outputs": [],
   "source": [
    "# Specify the path to your CSV file\n",
    "csv_file_path = '../../data/00-raw-data/Peking_1_TestRelease_phenotypic.csv'\n",
    "\n",
    "# Use the read_csv function to read the CSV file into a DataFrame\n",
    "df7 = pd.read_csv(csv_file_path)\n"
   ]
  },
  {
   "cell_type": "code",
   "execution_count": 221,
   "id": "dcfd2d34",
   "metadata": {},
   "outputs": [],
   "source": [
    "#cleaning step-1\n",
    "##TO REMOVE SPACES FROM COLUMN NAMES\n",
    "df1.columns = df1.columns.str.strip()\n",
    "df2.columns = df2.columns.str.strip()\n",
    "\n",
    "df3.columns = df3.columns.str.strip()\n",
    "df4.columns = df4.columns.str.strip()\n",
    "\n",
    "df5.columns = df5.columns.str.strip()\n",
    "df6.columns = df6.columns.str.strip()\n",
    "\n",
    "df7.columns = df7.columns.str.strip()"
   ]
  },
  {
   "cell_type": "code",
   "execution_count": 222,
   "id": "5de2bc55",
   "metadata": {},
   "outputs": [],
   "source": [
    "#standardising the columns\n",
    "# REPLACE ALL CELLS THAT ARE ENTIRELY SPACE (OR EMPTY) WITH NAN \n",
    "#noticed spaces in df1, and df6\n",
    "df1.replace(r'^\\s*$', np.nan, regex=True, inplace=True)\n",
    "df2.replace(r'^\\s*$', np.nan, regex=True, inplace=True)\n",
    "df3.replace(r'^\\s*$', np.nan, regex=True, inplace=True)\n",
    "df4.replace(r'^\\s*$', np.nan, regex=True, inplace=True)\n",
    "df5.replace(r'^\\s*$', np.nan, regex=True, inplace=True)\n",
    "df6.replace(r'^\\s*$', np.nan, regex=True, inplace=True)"
   ]
  },
  {
   "cell_type": "code",
   "execution_count": 223,
   "id": "a765e687",
   "metadata": {},
   "outputs": [
    {
     "name": "stdout",
     "output_type": "stream",
     "text": [
      "   ScanDir ID  Site  Gender    Age Handedness  DX Secondary Dx ADHD Measure  \\\n",
      "0       26001     2       1  16.92        usa   3      pending      pending   \n",
      "1       26002     2       1  15.68          1   2      pending      pending   \n",
      "2       26004     2       0  14.99          1   0      pending      pending   \n",
      "3       26005     2       0  15.16          1   2      pending      pending   \n",
      "4       26009     2       1  16.91          0   1      pending      pending   \n",
      "\n",
      "   ADHD Index Inattentive  ... Performance IQ  Full2 IQ  Full4 IQ  Med Status  \\\n",
      "0          43     pending  ...            104       NaN       120     pending   \n",
      "1          35     pending  ...            106       NaN       107     pending   \n",
      "2          43     pending  ...            123       NaN       125     pending   \n",
      "3          54     pending  ...            131       NaN       126     pending   \n",
      "4          44     pending  ...             81       NaN        97     pending   \n",
      "\n",
      "   QC_Rest_1  QC_Rest_2 QC_Rest_3  QC_Rest_4  QC_Anatomical_1  QC_Anatomical_2  \n",
      "0          1        NaN       NaN        NaN                1              NaN  \n",
      "1          1        NaN       NaN        NaN                1              NaN  \n",
      "2          1        NaN       NaN        NaN                1              NaN  \n",
      "3          1        NaN       NaN        NaN                1              NaN  \n",
      "4          1        NaN       NaN        NaN                1              NaN  \n",
      "\n",
      "[5 rows x 23 columns]\n"
     ]
    }
   ],
   "source": [
    "#we can see the spaces are replaced with Nan in df1\n",
    "print(df1.head())"
   ]
  },
  {
   "cell_type": "code",
   "execution_count": 224,
   "id": "ff85e416",
   "metadata": {},
   "outputs": [
    {
     "name": "stdout",
     "output_type": "stream",
     "text": [
      "Number of missing values in each column:\n",
      "ScanDir ID          0\n",
      "Site                0\n",
      "Gender              0\n",
      "Age                 0\n",
      "Handedness          0\n",
      "DX                  0\n",
      "Secondary Dx        0\n",
      "ADHD Measure        0\n",
      "ADHD Index          0\n",
      "Inattentive         0\n",
      "Hyper/Impulsive     0\n",
      "IQ Measure         26\n",
      "Verbal IQ           0\n",
      "Performance IQ      0\n",
      "Full2 IQ           26\n",
      "Full4 IQ            0\n",
      "Med Status          0\n",
      "QC_Rest_1           0\n",
      "QC_Rest_2          26\n",
      "QC_Rest_3          26\n",
      "QC_Rest_4          26\n",
      "QC_Anatomical_1     0\n",
      "QC_Anatomical_2    26\n",
      "dtype: int64\n"
     ]
    }
   ],
   "source": [
    "# INSERT CODE TO COUNT THE NUMBER OF MISSING VALUES IN EACH COLUMN (use google)\n",
    "# Count missing values in each column\n",
    "missing_values = df1.isna().sum()\n",
    "\n",
    "# Print the result\n",
    "print(\"Number of missing values in each column:\")\n",
    "print(missing_values)\n"
   ]
  },
  {
   "cell_type": "code",
   "execution_count": 225,
   "id": "0e1492da",
   "metadata": {},
   "outputs": [
    {
     "name": "stdout",
     "output_type": "stream",
     "text": [
      "ScanDir ID           int64\n",
      "Site                 int64\n",
      "Gender               int64\n",
      "Age                float64\n",
      "Handedness          object\n",
      "DX                   int64\n",
      "Secondary Dx        object\n",
      "ADHD Measure        object\n",
      "ADHD Index           int64\n",
      "Inattentive         object\n",
      "Hyper/Impulsive     object\n",
      "IQ Measure         float64\n",
      "Verbal IQ            int64\n",
      "Performance IQ       int64\n",
      "Full2 IQ           float64\n",
      "Full4 IQ             int64\n",
      "Med Status          object\n",
      "QC_Rest_1            int64\n",
      "QC_Rest_2          float64\n",
      "QC_Rest_3          float64\n",
      "QC_Rest_4          float64\n",
      "QC_Anatomical_1      int64\n",
      "QC_Anatomical_2    float64\n",
      "dtype: object\n"
     ]
    }
   ],
   "source": [
    "# Identify columns with mixed data types\n",
    "#convert the object datatypes\n",
    "#the datatypes are similar for dataframes too as its the similar data from various unis\n",
    "print(df1.dtypes)"
   ]
  },
  {
   "cell_type": "code",
   "execution_count": 226,
   "id": "a39d167e",
   "metadata": {
    "scrolled": false
   },
   "outputs": [
    {
     "name": "stdout",
     "output_type": "stream",
     "text": [
      "   ScanDir ID  Site  Gender    Age  Handedness  DX Secondary Dx ADHD Measure  \\\n",
      "0       26001     2       1  16.92         NaN   3      pending      pending   \n",
      "1       26002     2       1  15.68         1.0   2      pending      pending   \n",
      "2       26004     2       0  14.99         1.0   0      pending      pending   \n",
      "3       26005     2       0  15.16         1.0   2      pending      pending   \n",
      "4       26009     2       1  16.91         0.0   1      pending      pending   \n",
      "\n",
      "   ADHD Index Inattentive  ... Performance IQ  Full2 IQ  Full4 IQ  Med Status  \\\n",
      "0          43     pending  ...            104       NaN       120     pending   \n",
      "1          35     pending  ...            106       NaN       107     pending   \n",
      "2          43     pending  ...            123       NaN       125     pending   \n",
      "3          54     pending  ...            131       NaN       126     pending   \n",
      "4          44     pending  ...             81       NaN        97     pending   \n",
      "\n",
      "   QC_Rest_1  QC_Rest_2 QC_Rest_3  QC_Rest_4  QC_Anatomical_1  QC_Anatomical_2  \n",
      "0          1        NaN       NaN        NaN                1              NaN  \n",
      "1          1        NaN       NaN        NaN                1              NaN  \n",
      "2          1        NaN       NaN        NaN                1              NaN  \n",
      "3          1        NaN       NaN        NaN                1              NaN  \n",
      "4          1        NaN       NaN        NaN                1              NaN  \n",
      "\n",
      "[5 rows x 23 columns]\n"
     ]
    }
   ],
   "source": [
    "#the Handedness column is converted to numeric.\n",
    "df1['Handedness'] = pd.to_numeric(df1['Handedness'], errors='coerce', downcast='integer')\n",
    "df2['Handedness'] = pd.to_numeric(df1['Handedness'], errors='coerce', downcast='integer')\n",
    "df3['Handedness'] = pd.to_numeric(df1['Handedness'], errors='coerce', downcast='integer')\n",
    "df4['Handedness'] = pd.to_numeric(df1['Handedness'], errors='coerce', downcast='integer')\n",
    "df5['Handedness'] = pd.to_numeric(df1['Handedness'], errors='coerce', downcast='integer')\n",
    "df6['Handedness'] = pd.to_numeric(df1['Handedness'], errors='coerce', downcast='integer')\n",
    "df7['Handedness'] = pd.to_numeric(df1['Handedness'], errors='coerce', downcast='integer')\n",
    "#We can see the string values in Handedness is converted to NaN as we need numeric column\n",
    "print(df1.head())"
   ]
  },
  {
   "cell_type": "code",
   "execution_count": null,
   "id": "2a0216e9",
   "metadata": {},
   "outputs": [],
   "source": []
  },
  {
   "cell_type": "code",
   "execution_count": 227,
   "id": "e607018c",
   "metadata": {},
   "outputs": [],
   "source": [
    "df1['ADHD Measure'] = pd.to_numeric(df1['ADHD Measure'], errors='coerce', downcast='integer')\n",
    "df2['ADHD Measure'] = pd.to_numeric(df1['ADHD Measure'], errors='coerce', downcast='integer')\n",
    "df3['ADHD Measure'] = pd.to_numeric(df1['ADHD Measure'], errors='coerce', downcast='integer')\n",
    "df4['ADHD Measure'] = pd.to_numeric(df1['ADHD Measure'], errors='coerce', downcast='integer')\n",
    "df5['ADHD Measure'] = pd.to_numeric(df1['ADHD Measure'], errors='coerce', downcast='integer')\n",
    "df6['ADHD Measure'] = pd.to_numeric(df1['ADHD Measure'], errors='coerce', downcast='integer')"
   ]
  },
  {
   "cell_type": "code",
   "execution_count": 228,
   "id": "5c07d1d3",
   "metadata": {},
   "outputs": [],
   "source": [
    "df1['Inattentive'] = pd.to_numeric(df1['Inattentive'], errors='coerce', downcast='integer')\n",
    "df2['Inattentive'] = pd.to_numeric(df1['Inattentive'], errors='coerce', downcast='integer')\n",
    "df3['Inattentive'] = pd.to_numeric(df1['Inattentive'], errors='coerce', downcast='integer')\n",
    "df4['Inattentive'] = pd.to_numeric(df1['Inattentive'], errors='coerce', downcast='integer')\n",
    "df5['Inattentive'] = pd.to_numeric(df1['Inattentive'], errors='coerce', downcast='integer')\n",
    "df6['Inattentive'] = pd.to_numeric(df1['Inattentive'], errors='coerce', downcast='integer')\n",
    "df7['Inattentive'] = pd.to_numeric(df1['Inattentive'], errors='coerce', downcast='integer')"
   ]
  },
  {
   "cell_type": "code",
   "execution_count": 229,
   "id": "c3a6c69e",
   "metadata": {},
   "outputs": [],
   "source": [
    "df1['Med Status'] = pd.to_numeric(df1['Med Status'], errors='coerce', downcast='integer')\n",
    "df2['Med Status'] = pd.to_numeric(df1['Med Status'], errors='coerce', downcast='integer')\n",
    "df3['Med Status'] = pd.to_numeric(df1['Med Status'], errors='coerce', downcast='integer')\n",
    "df4['Med Status'] = pd.to_numeric(df1['Med Status'], errors='coerce', downcast='integer')\n",
    "df5['Med Status'] = pd.to_numeric(df1['Med Status'], errors='coerce', downcast='integer')\n",
    "df6['Med Status'] = pd.to_numeric(df1['Med Status'], errors='coerce', downcast='integer')\n",
    "df7['Med Status'] = pd.to_numeric(df1['Med Status'], errors='coerce', downcast='integer')"
   ]
  },
  {
   "cell_type": "code",
   "execution_count": 230,
   "id": "d211a1f8",
   "metadata": {},
   "outputs": [],
   "source": [
    "df1['Hyper/Impulsive'] = pd.to_numeric(df1['Hyper/Impulsive'], errors='coerce', downcast='integer')\n",
    "df2['Hyper/Impulsive'] = pd.to_numeric(df1['Hyper/Impulsive'], errors='coerce', downcast='integer')\n",
    "df3['Hyper/Impulsive'] = pd.to_numeric(df1['Hyper/Impulsive'], errors='coerce', downcast='integer')\n",
    "df4['Hyper/Impulsive'] = pd.to_numeric(df1['Hyper/Impulsive'], errors='coerce', downcast='integer')\n",
    "df5['Hyper/Impulsive'] = pd.to_numeric(df1['Hyper/Impulsive'], errors='coerce', downcast='integer')\n",
    "df6['Hyper/Impulsive'] = pd.to_numeric(df1['Hyper/Impulsive'], errors='coerce', downcast='integer')\n",
    "df7['Hyper/Impulsive'] = pd.to_numeric(df1['Hyper/Impulsive'], errors='coerce', downcast='integer')"
   ]
  },
  {
   "cell_type": "code",
   "execution_count": 231,
   "id": "c496f27d",
   "metadata": {},
   "outputs": [
    {
     "name": "stderr",
     "output_type": "stream",
     "text": [
      "/var/folders/bd/fz7166695vq0bg9w400f8zl40000gn/T/ipykernel_15383/3820294942.py:3: FutureWarning: The default value of numeric_only in DataFrame.mean is deprecated. In a future version, it will default to False. In addition, specifying 'numeric_only=None' is deprecated. Select only valid columns or specify the value of numeric_only to silence this warning.\n",
      "  df1.fillna(df1.mean(), inplace=True)\n",
      "/var/folders/bd/fz7166695vq0bg9w400f8zl40000gn/T/ipykernel_15383/3820294942.py:4: FutureWarning: The default value of numeric_only in DataFrame.mean is deprecated. In a future version, it will default to False. In addition, specifying 'numeric_only=None' is deprecated. Select only valid columns or specify the value of numeric_only to silence this warning.\n",
      "  df2.fillna(df1.mean(), inplace=True)\n",
      "/var/folders/bd/fz7166695vq0bg9w400f8zl40000gn/T/ipykernel_15383/3820294942.py:5: FutureWarning: The default value of numeric_only in DataFrame.mean is deprecated. In a future version, it will default to False. In addition, specifying 'numeric_only=None' is deprecated. Select only valid columns or specify the value of numeric_only to silence this warning.\n",
      "  df3.fillna(df1.mean(), inplace=True)\n",
      "/var/folders/bd/fz7166695vq0bg9w400f8zl40000gn/T/ipykernel_15383/3820294942.py:6: FutureWarning: The default value of numeric_only in DataFrame.mean is deprecated. In a future version, it will default to False. In addition, specifying 'numeric_only=None' is deprecated. Select only valid columns or specify the value of numeric_only to silence this warning.\n",
      "  df4.fillna(df1.mean(), inplace=True)\n",
      "/var/folders/bd/fz7166695vq0bg9w400f8zl40000gn/T/ipykernel_15383/3820294942.py:7: FutureWarning: The default value of numeric_only in DataFrame.mean is deprecated. In a future version, it will default to False. In addition, specifying 'numeric_only=None' is deprecated. Select only valid columns or specify the value of numeric_only to silence this warning.\n",
      "  df5.fillna(df1.mean(), inplace=True)\n",
      "/var/folders/bd/fz7166695vq0bg9w400f8zl40000gn/T/ipykernel_15383/3820294942.py:8: FutureWarning: The default value of numeric_only in DataFrame.mean is deprecated. In a future version, it will default to False. In addition, specifying 'numeric_only=None' is deprecated. Select only valid columns or specify the value of numeric_only to silence this warning.\n",
      "  df6.fillna(df1.mean(), inplace=True)\n",
      "/var/folders/bd/fz7166695vq0bg9w400f8zl40000gn/T/ipykernel_15383/3820294942.py:9: FutureWarning: The default value of numeric_only in DataFrame.mean is deprecated. In a future version, it will default to False. In addition, specifying 'numeric_only=None' is deprecated. Select only valid columns or specify the value of numeric_only to silence this warning.\n",
      "  df7.fillna(df1.mean(), inplace=True)\n"
     ]
    }
   ],
   "source": [
    "# Fill missing values in all columns with column means\n",
    "#Dealing with missing values\n",
    "df1.fillna(df1.mean(), inplace=True)\n",
    "df2.fillna(df1.mean(), inplace=True)\n",
    "df3.fillna(df1.mean(), inplace=True)\n",
    "df4.fillna(df1.mean(), inplace=True)\n",
    "df5.fillna(df1.mean(), inplace=True)\n",
    "df6.fillna(df1.mean(), inplace=True)\n",
    "df7.fillna(df1.mean(), inplace=True)"
   ]
  },
  {
   "cell_type": "code",
   "execution_count": 232,
   "id": "51b78dbb",
   "metadata": {
    "scrolled": true
   },
   "outputs": [
    {
     "name": "stdout",
     "output_type": "stream",
     "text": [
      "   ScanDir ID  Site  Gender    Age  Handedness   DX Secondary Dx  \\\n",
      "0     26001.0   2.0     1.0  16.92        0.96  3.0      pending   \n",
      "1     26002.0   2.0     1.0  15.68        1.00  2.0      pending   \n",
      "2     26004.0   2.0     0.0  14.99        1.00  0.0      pending   \n",
      "3     26005.0   2.0     0.0  15.16        1.00  2.0      pending   \n",
      "4     26009.0   2.0     1.0  16.91        0.00  1.0      pending   \n",
      "\n",
      "   ADHD Measure  ADHD Index  Inattentive  ...  performance_iq  full2_iq  \\\n",
      "0           NaN        43.0          NaN  ...             NaN       NaN   \n",
      "1           NaN        35.0          NaN  ...             NaN       NaN   \n",
      "2           NaN        43.0          NaN  ...             NaN       NaN   \n",
      "3           NaN        54.0          NaN  ...             NaN       NaN   \n",
      "4           NaN        44.0          NaN  ...             NaN       NaN   \n",
      "\n",
      "   full4_iq  med_status  qc_rest_1  qc_rest_2  qc_rest_3  qc_rest_4  \\\n",
      "0       NaN         NaN        NaN        NaN        NaN        NaN   \n",
      "1       NaN         NaN        NaN        NaN        NaN        NaN   \n",
      "2       NaN         NaN        NaN        NaN        NaN        NaN   \n",
      "3       NaN         NaN        NaN        NaN        NaN        NaN   \n",
      "4       NaN         NaN        NaN        NaN        NaN        NaN   \n",
      "\n",
      "   qc_anatomical_1  qc_anatomical_2  \n",
      "0              NaN              NaN  \n",
      "1              NaN              NaN  \n",
      "2              NaN              NaN  \n",
      "3              NaN              NaN  \n",
      "4              NaN              NaN  \n",
      "\n",
      "[5 rows x 46 columns]\n"
     ]
    }
   ],
   "source": [
    "combined_df = pd.concat([df1, df2,df3,df4,df5,df6])\n",
    "print(combined_df.head())"
   ]
  },
  {
   "cell_type": "code",
   "execution_count": 233,
   "id": "0d1f4b2c",
   "metadata": {},
   "outputs": [
    {
     "name": "stdout",
     "output_type": "stream",
     "text": [
      "   ScanDir ID  Site  Gender    Age  Handedness  DX Secondary Dx  ADHD Measure  \\\n",
      "0       26001     2       1  16.92        0.96   3      pending           NaN   \n",
      "1       26002     2       1  15.68        1.00   2      pending           NaN   \n",
      "2       26004     2       0  14.99        1.00   0      pending           NaN   \n",
      "3       26005     2       0  15.16        1.00   2      pending           NaN   \n",
      "4       26009     2       1  16.91        0.00   1      pending           NaN   \n",
      "\n",
      "   ADHD Index  Inattentive  ...  Performance IQ  Full2 IQ  Full4 IQ  \\\n",
      "0          43          NaN  ...             104       NaN       120   \n",
      "1          35          NaN  ...             106       NaN       107   \n",
      "2          43          NaN  ...             123       NaN       125   \n",
      "3          54          NaN  ...             131       NaN       126   \n",
      "4          44          NaN  ...              81       NaN        97   \n",
      "\n",
      "   Med Status  QC_Rest_1  QC_Rest_2  QC_Rest_3  QC_Rest_4  QC_Anatomical_1  \\\n",
      "0         NaN          1        NaN        NaN        NaN                1   \n",
      "1         NaN          1        NaN        NaN        NaN                1   \n",
      "2         NaN          1        NaN        NaN        NaN                1   \n",
      "3         NaN          1        NaN        NaN        NaN                1   \n",
      "4         NaN          1        NaN        NaN        NaN                1   \n",
      "\n",
      "   QC_Anatomical_2  \n",
      "0              NaN  \n",
      "1              NaN  \n",
      "2              NaN  \n",
      "3              NaN  \n",
      "4              NaN  \n",
      "\n",
      "[5 rows x 23 columns]\n"
     ]
    }
   ],
   "source": [
    "print(df1.head())"
   ]
  },
  {
   "cell_type": "code",
   "execution_count": 234,
   "id": "fe7b3c93",
   "metadata": {},
   "outputs": [],
   "source": [
    "df1 = df1.dropna(axis=1, how='any')\n",
    "df2 = df1.dropna(axis=1, how='any')\n",
    "df3 = df1.dropna(axis=1, how='any')\n",
    "df4 = df1.dropna(axis=1, how='any')\n",
    "df5 = df1.dropna(axis=1, how='any')\n",
    "df6 = df1.dropna(axis=1, how='any')\n",
    "df7 = df1.dropna(axis=1, how='any')\n",
    "df8 = df1.dropna(axis=1, how='any')"
   ]
  },
  {
   "cell_type": "code",
   "execution_count": 235,
   "id": "b6436b5d",
   "metadata": {},
   "outputs": [
    {
     "name": "stdout",
     "output_type": "stream",
     "text": [
      "   ScanDir ID  Site  Gender    Age  Handedness  DX Secondary Dx  ADHD Index  \\\n",
      "0       26001     2       1  16.92        0.96   3      pending          43   \n",
      "1       26002     2       1  15.68        1.00   2      pending          35   \n",
      "2       26004     2       0  14.99        1.00   0      pending          43   \n",
      "3       26005     2       0  15.16        1.00   2      pending          54   \n",
      "4       26009     2       1  16.91        0.00   1      pending          44   \n",
      "\n",
      "   Verbal IQ  Performance IQ  Full4 IQ  QC_Rest_1  QC_Anatomical_1  \n",
      "0        133             104       120          1                1  \n",
      "1        106             106       107          1                1  \n",
      "2        119             123       125          1                1  \n",
      "3        116             131       126          1                1  \n",
      "4        113              81        97          1                1  \n"
     ]
    }
   ],
   "source": [
    "#the final cleaned dataset\n",
    "print(df1.head())"
   ]
  },
  {
   "cell_type": "code",
   "execution_count": 236,
   "id": "27cec08c",
   "metadata": {},
   "outputs": [],
   "source": [
    "combined_df = pd.concat([df1, df2,df3,df4,df5,df6,df7], axis=0)"
   ]
  },
  {
   "cell_type": "code",
   "execution_count": 237,
   "id": "903660d9",
   "metadata": {},
   "outputs": [
    {
     "name": "stdout",
     "output_type": "stream",
     "text": [
      "   ScanDir ID  Site  Gender    Age  Handedness  DX Secondary Dx  ADHD Index  \\\n",
      "0       26001     2       1  16.92        0.96   3      pending          43   \n",
      "1       26002     2       1  15.68        1.00   2      pending          35   \n",
      "2       26004     2       0  14.99        1.00   0      pending          43   \n",
      "3       26005     2       0  15.16        1.00   2      pending          54   \n",
      "4       26009     2       1  16.91        0.00   1      pending          44   \n",
      "\n",
      "   Verbal IQ  Performance IQ  Full4 IQ  QC_Rest_1  QC_Anatomical_1  \n",
      "0        133             104       120          1                1  \n",
      "1        106             106       107          1                1  \n",
      "2        119             123       125          1                1  \n",
      "3        116             131       126          1                1  \n",
      "4        113              81        97          1                1  \n"
     ]
    }
   ],
   "source": [
    "print(combined_df.head())"
   ]
  },
  {
   "cell_type": "code",
   "execution_count": 238,
   "id": "9ce540e8",
   "metadata": {},
   "outputs": [],
   "source": [
    "#the final modified file can be used for further analysis.\n",
    "#export individual files to this modified folder and also send the combined file.\n",
    "df1.to_csv('../../data/01-modified-data/Brown_TestRelease_phenotypic_clean.csv', index=False)\n",
    "df2.to_csv('../../data/01-modified-data/KKI_phenotypic_clean.csv', index=False)\n",
    "df3.to_csv('../../data/01-modified-data/NYU_phenotypic_clean.csv', index=False)\n",
    "df4.to_csv('../../data/01-modified-data/OHSU_phenotypic_clean.csv', index=False)\n",
    "df5.to_csv('../../data/01-modified-data/OHSU_TestRelease_phenotypic_clean.csv', index=False)\n",
    "df6.to_csv('../../data/01-modified-data/Peking_1_phenotypic_clean.csv', index=False)\n",
    "df7.to_csv('../../data/01-modified-data/Peking_1_TestRelease_phenotypic_clean.csv', index=False)\n",
    "combined_df.to_csv('../../data/01-modified-data/combined_data_clean.csv', index=False)"
   ]
  }
 ],
 "metadata": {
  "kernelspec": {
   "display_name": "Python 3 (ipykernel)",
   "language": "python",
   "name": "python3"
  },
  "language_info": {
   "codemirror_mode": {
    "name": "ipython",
    "version": 3
   },
   "file_extension": ".py",
   "mimetype": "text/x-python",
   "name": "python",
   "nbconvert_exporter": "python",
   "pygments_lexer": "ipython3",
   "version": "3.11.4"
  }
 },
 "nbformat": 4,
 "nbformat_minor": 5
}
