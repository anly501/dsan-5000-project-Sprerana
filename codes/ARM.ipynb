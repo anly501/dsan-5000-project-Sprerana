{
 "cells": [
  {
   "cell_type": "code",
   "execution_count": 1,
   "id": "48355858",
   "metadata": {},
   "outputs": [],
   "source": [
    "import pandas as pd\n",
    "from mlxtend.frequent_patterns import apriori, association_rules\n"
   ]
  },
  {
   "cell_type": "code",
   "execution_count": 5,
   "id": "79bf3a11",
   "metadata": {},
   "outputs": [],
   "source": [
    "# Example dataset\n",
    "data = pd.read_csv('../data/01-modified-data/combined_data_pca.csv')\n",
    "df = pd.DataFrame(data)"
   ]
  },
  {
   "cell_type": "code",
   "execution_count": 6,
   "id": "c88f8f61",
   "metadata": {},
   "outputs": [
    {
     "name": "stderr",
     "output_type": "stream",
     "text": [
      "/Users/apple/anaconda3/lib/python3.11/site-packages/mlxtend/frequent_patterns/fpcommon.py:110: DeprecationWarning: DataFrames with non-bool types result in worse computationalperformance and their support might be discontinued in the future.Please use a DataFrame with bool type\n",
      "  warnings.warn(\n",
      "/Users/apple/anaconda3/lib/python3.11/site-packages/pandas/core/dtypes/cast.py:1641: DeprecationWarning: np.find_common_type is deprecated.  Please use `np.result_type` or `np.promote_types`.\n",
      "See https://numpy.org/devdocs/release/1.25.0-notes.html and the docs for more information.  (Deprecated NumPy 1.25)\n",
      "  return np.find_common_type(types, [])\n"
     ]
    },
    {
     "ename": "ValueError",
     "evalue": "The allowed values for a DataFrame are True, False, 0, 1. Found value 0.3363715488962697",
     "output_type": "error",
     "traceback": [
      "\u001b[0;31m---------------------------------------------------------------------------\u001b[0m",
      "\u001b[0;31mValueError\u001b[0m                                Traceback (most recent call last)",
      "Cell \u001b[0;32mIn[6], line 2\u001b[0m\n\u001b[1;32m      1\u001b[0m \u001b[38;5;66;03m# Use the apriori algorithm to find frequent itemsets\u001b[39;00m\n\u001b[0;32m----> 2\u001b[0m frequent_itemsets \u001b[38;5;241m=\u001b[39m apriori(df, min_support\u001b[38;5;241m=\u001b[39m\u001b[38;5;241m0.6\u001b[39m, use_colnames\u001b[38;5;241m=\u001b[39m\u001b[38;5;28;01mTrue\u001b[39;00m)\n",
      "File \u001b[0;32m~/anaconda3/lib/python3.11/site-packages/mlxtend/frequent_patterns/apriori.py:241\u001b[0m, in \u001b[0;36mapriori\u001b[0;34m(df, min_support, use_colnames, max_len, verbose, low_memory)\u001b[0m\n\u001b[1;32m    234\u001b[0m \u001b[38;5;28;01mif\u001b[39;00m min_support \u001b[38;5;241m<\u001b[39m\u001b[38;5;241m=\u001b[39m \u001b[38;5;241m0.0\u001b[39m:\n\u001b[1;32m    235\u001b[0m     \u001b[38;5;28;01mraise\u001b[39;00m \u001b[38;5;167;01mValueError\u001b[39;00m(\n\u001b[1;32m    236\u001b[0m         \u001b[38;5;124m\"\u001b[39m\u001b[38;5;124m`min_support` must be a positive \u001b[39m\u001b[38;5;124m\"\u001b[39m\n\u001b[1;32m    237\u001b[0m         \u001b[38;5;124m\"\u001b[39m\u001b[38;5;124mnumber within the interval `(0, 1]`. \u001b[39m\u001b[38;5;124m\"\u001b[39m\n\u001b[1;32m    238\u001b[0m         \u001b[38;5;124m\"\u001b[39m\u001b[38;5;124mGot \u001b[39m\u001b[38;5;132;01m%s\u001b[39;00m\u001b[38;5;124m.\u001b[39m\u001b[38;5;124m\"\u001b[39m \u001b[38;5;241m%\u001b[39m min_support\n\u001b[1;32m    239\u001b[0m     )\n\u001b[0;32m--> 241\u001b[0m fpc\u001b[38;5;241m.\u001b[39mvalid_input_check(df)\n\u001b[1;32m    243\u001b[0m \u001b[38;5;28;01mif\u001b[39;00m \u001b[38;5;28mhasattr\u001b[39m(df, \u001b[38;5;124m\"\u001b[39m\u001b[38;5;124msparse\u001b[39m\u001b[38;5;124m\"\u001b[39m):\n\u001b[1;32m    244\u001b[0m     \u001b[38;5;66;03m# DataFrame with SparseArray (pandas >= 0.24)\u001b[39;00m\n\u001b[1;32m    245\u001b[0m     \u001b[38;5;28;01mif\u001b[39;00m df\u001b[38;5;241m.\u001b[39msize \u001b[38;5;241m==\u001b[39m \u001b[38;5;241m0\u001b[39m:\n",
      "File \u001b[0;32m~/anaconda3/lib/python3.11/site-packages/mlxtend/frequent_patterns/fpcommon.py:132\u001b[0m, in \u001b[0;36mvalid_input_check\u001b[0;34m(df)\u001b[0m\n\u001b[1;32m    127\u001b[0m val \u001b[38;5;241m=\u001b[39m values[\u001b[38;5;28mtuple\u001b[39m(loc[\u001b[38;5;241m0\u001b[39m] \u001b[38;5;28;01mfor\u001b[39;00m loc \u001b[38;5;129;01min\u001b[39;00m idxs)]\n\u001b[1;32m    128\u001b[0m s \u001b[38;5;241m=\u001b[39m (\n\u001b[1;32m    129\u001b[0m     \u001b[38;5;124m\"\u001b[39m\u001b[38;5;124mThe allowed values for a DataFrame\u001b[39m\u001b[38;5;124m\"\u001b[39m\n\u001b[1;32m    130\u001b[0m     \u001b[38;5;124m\"\u001b[39m\u001b[38;5;124m are True, False, 0, 1. Found value \u001b[39m\u001b[38;5;132;01m%s\u001b[39;00m\u001b[38;5;124m\"\u001b[39m \u001b[38;5;241m%\u001b[39m (val)\n\u001b[1;32m    131\u001b[0m )\n\u001b[0;32m--> 132\u001b[0m \u001b[38;5;28;01mraise\u001b[39;00m \u001b[38;5;167;01mValueError\u001b[39;00m(s)\n",
      "\u001b[0;31mValueError\u001b[0m: The allowed values for a DataFrame are True, False, 0, 1. Found value 0.3363715488962697"
     ]
    }
   ],
   "source": [
    "# Use the apriori algorithm to find frequent itemsets\n",
    "frequent_itemsets = apriori(df, min_support=0.6, use_colnames=True)"
   ]
  },
  {
   "cell_type": "code",
   "execution_count": 7,
   "id": "33e39d89",
   "metadata": {},
   "outputs": [
    {
     "ename": "NameError",
     "evalue": "name 'frequent_itemsets' is not defined",
     "output_type": "error",
     "traceback": [
      "\u001b[0;31m---------------------------------------------------------------------------\u001b[0m",
      "\u001b[0;31mNameError\u001b[0m                                 Traceback (most recent call last)",
      "Cell \u001b[0;32mIn[7], line 2\u001b[0m\n\u001b[1;32m      1\u001b[0m \u001b[38;5;66;03m# Generate the rules\u001b[39;00m\n\u001b[0;32m----> 2\u001b[0m rules \u001b[38;5;241m=\u001b[39m association_rules(frequent_itemsets, metric\u001b[38;5;241m=\u001b[39m\u001b[38;5;124m\"\u001b[39m\u001b[38;5;124mconfidence\u001b[39m\u001b[38;5;124m\"\u001b[39m, min_threshold\u001b[38;5;241m=\u001b[39m\u001b[38;5;241m0.7\u001b[39m)\n",
      "\u001b[0;31mNameError\u001b[0m: name 'frequent_itemsets' is not defined"
     ]
    }
   ],
   "source": [
    "# Generate the rules\n",
    "rules = association_rules(frequent_itemsets, metric=\"confidence\", min_threshold=0.7)\n"
   ]
  },
  {
   "cell_type": "code",
   "execution_count": null,
   "id": "095a3626",
   "metadata": {},
   "outputs": [],
   "source": [
    "# Display the rules\n",
    "print(rules[['antecedents', 'consequents', 'support', 'confidence', 'lift']])\n"
   ]
  },
  {
   "cell_type": "code",
   "execution_count": null,
   "id": "cc356233",
   "metadata": {},
   "outputs": [],
   "source": [
    "Association Rule Mining is a popular technique used in data mining to discover interesting relations between variables in large databases. It's often used in market basket analysis to find relationships between products purchased together. Here's how you can implement it step-by-step in Python, typically using the `mlxtend` library:\n",
    "\n",
    "### Step-by-Step Guide for Association Rule Mining in Python\n",
    "\n",
    "#### Step 1: Import Necessary Libraries\n",
    "You'll need `pandas` for data manipulation and `mlxtend` for association rule mining. If `mlxtend` is not installed, you can install it using `pip install mlxtend`.\n",
    "\n",
    "```python\n",
    "import pandas as pd\n",
    "from mlxtend.frequent_patterns import apriori, association_rules\n",
    "```\n",
    "\n",
    "#### Step 2: Prepare Your Dataset\n",
    "Your dataset should be in a format where each row represents a record (like a transaction) and columns represent items. The values should be binary: `1` if the item is present in the record, and `0` if not.\n",
    "\n",
    "```python\n",
    "# Example dataset\n",
    "data = {'milk': [0, 1, 0, 1, 0],\n",
    "        'bread': [1, 0, 1, 0, 1],\n",
    "        'butter': [0, 0, 1, 1, 0]}\n",
    "df = pd.DataFrame(data)\n",
    "```\n",
    "\n",
    "#### Step 3: Apply the Apriori Algorithm\n",
    "The `apriori` algorithm is used to find frequent itemsets in your dataset.\n",
    "\n",
    "```python\n",
    "# Use the apriori algorithm to find frequent itemsets\n",
    "frequent_itemsets = apriori(df, min_support=0.6, use_colnames=True)\n",
    "```\n",
    "Here, `min_support` is a threshold for how frequently an itemset must appear in the dataset to be considered.\n",
    "\n",
    "#### Step 4: Generate Association Rules\n",
    "Once you have the frequent itemsets, you can generate the rules.\n",
    "\n",
    "```python\n",
    "# Generate the rules\n",
    "rules = association_rules(frequent_itemsets, metric=\"confidence\", min_threshold=0.7)\n",
    "```\n",
    "Here, `metric` can be `confidence`, `lift`, and so on. `min_threshold` is the minimum threshold for the metric.\n",
    "\n",
    "#### Step 5: Analyze the Results\n",
    "The resulting `rules` DataFrame contains the rules along with their respective support, confidence, and lift.\n",
    "\n",
    "```python\n",
    "# Display the rules\n",
    "print(rules[['antecedents', 'consequents', 'support', 'confidence', 'lift']])\n",
    "```\n",
    "\n",
    "#### Step 6: Interpret the Results\n",
    "- **Support**: The proportion of transactions that contain the itemset.\n",
    "- **Confidence**: The likelihood that an item Y is also bought if item X is bought.\n",
    "- **Lift**: The increase in the ratio of sale of Y when X is sold.\n",
    "\n",
    "Higher lift values indicate stronger association rules.\n",
    "\n",
    "#### Step 7: Adjust Parameters as Needed\n",
    "You can experiment with different `min_support` and `min_threshold` values to see how they affect the number and quality of the rules generated.\n",
    "\n",
    "#### Additional Notes:\n",
    "- The dataset must be one-hot encoded.\n",
    "- The `mlxtend` library is straightforward to use but you can also explore other libraries or write custom functions for more complex needs.\n",
    "\n",
    "This is a basic guideline, and the specific steps might vary based on your dataset and the problem you're trying to solve."
   ]
  }
 ],
 "metadata": {
  "kernelspec": {
   "display_name": "Python 3 (ipykernel)",
   "language": "python",
   "name": "python3"
  },
  "language_info": {
   "codemirror_mode": {
    "name": "ipython",
    "version": 3
   },
   "file_extension": ".py",
   "mimetype": "text/x-python",
   "name": "python",
   "nbconvert_exporter": "python",
   "pygments_lexer": "ipython3",
   "version": "3.11.4"
  }
 },
 "nbformat": 4,
 "nbformat_minor": 5
}
