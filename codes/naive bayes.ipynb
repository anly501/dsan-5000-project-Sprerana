{
 "cells": [
  {
   "cell_type": "markdown",
   "metadata": {},
   "source": [
    "## Tools"
   ]
  },
  {
   "cell_type": "code",
   "execution_count": 9,
   "metadata": {},
   "outputs": [],
   "source": [
    "import numpy as np \n",
    "import pandas as pd\n",
    "import matplotlib.pyplot as plt\n",
    "import seaborn as sns\n",
    "sns.set_style(\"darkgrid\")\n",
    "# Feature Selection with Univariate Statistical Tests\n",
    "from pandas import read_csv\n",
    "from numpy import set_printoptions\n",
    "from sklearn.feature_selection import SelectKBest\n",
    "from sklearn.feature_selection import f_classif"
   ]
  },
  {
   "cell_type": "markdown",
   "metadata": {},
   "source": [
    "## Dataset"
   ]
  },
  {
   "cell_type": "code",
   "execution_count": 10,
   "metadata": {
    "scrolled": true
   },
   "outputs": [
    {
     "data": {
      "text/html": [
       "<div>\n",
       "<style scoped>\n",
       "    .dataframe tbody tr th:only-of-type {\n",
       "        vertical-align: middle;\n",
       "    }\n",
       "\n",
       "    .dataframe tbody tr th {\n",
       "        vertical-align: top;\n",
       "    }\n",
       "\n",
       "    .dataframe thead th {\n",
       "        text-align: right;\n",
       "    }\n",
       "</style>\n",
       "<table border=\"1\" class=\"dataframe\">\n",
       "  <thead>\n",
       "    <tr style=\"text-align: right;\">\n",
       "      <th></th>\n",
       "      <th>Site</th>\n",
       "      <th>Gender</th>\n",
       "      <th>Age</th>\n",
       "      <th>Handedness</th>\n",
       "      <th>DX</th>\n",
       "      <th>ADHD Measure</th>\n",
       "      <th>ADHD Index</th>\n",
       "      <th>Verbal IQ</th>\n",
       "      <th>Performance IQ</th>\n",
       "      <th>Full4 IQ</th>\n",
       "    </tr>\n",
       "  </thead>\n",
       "  <tbody>\n",
       "    <tr>\n",
       "      <th>0</th>\n",
       "      <td>6.0</td>\n",
       "      <td>0.0</td>\n",
       "      <td>10.42</td>\n",
       "      <td>0.96</td>\n",
       "      <td>1.0</td>\n",
       "      <td>1.0</td>\n",
       "      <td>44.615385</td>\n",
       "      <td>115.038462</td>\n",
       "      <td>107.192308</td>\n",
       "      <td>104.0</td>\n",
       "    </tr>\n",
       "    <tr>\n",
       "      <th>1</th>\n",
       "      <td>6.0</td>\n",
       "      <td>1.0</td>\n",
       "      <td>10.67</td>\n",
       "      <td>1.00</td>\n",
       "      <td>1.0</td>\n",
       "      <td>1.0</td>\n",
       "      <td>44.615385</td>\n",
       "      <td>115.038462</td>\n",
       "      <td>107.192308</td>\n",
       "      <td>136.0</td>\n",
       "    </tr>\n",
       "    <tr>\n",
       "      <th>2</th>\n",
       "      <td>6.0</td>\n",
       "      <td>1.0</td>\n",
       "      <td>11.75</td>\n",
       "      <td>1.00</td>\n",
       "      <td>0.0</td>\n",
       "      <td>1.0</td>\n",
       "      <td>44.615385</td>\n",
       "      <td>115.038462</td>\n",
       "      <td>107.192308</td>\n",
       "      <td>104.0</td>\n",
       "    </tr>\n",
       "    <tr>\n",
       "      <th>3</th>\n",
       "      <td>6.0</td>\n",
       "      <td>1.0</td>\n",
       "      <td>11.08</td>\n",
       "      <td>1.00</td>\n",
       "      <td>3.0</td>\n",
       "      <td>1.0</td>\n",
       "      <td>44.615385</td>\n",
       "      <td>115.038462</td>\n",
       "      <td>107.192308</td>\n",
       "      <td>112.0</td>\n",
       "    </tr>\n",
       "    <tr>\n",
       "      <th>4</th>\n",
       "      <td>6.0</td>\n",
       "      <td>0.0</td>\n",
       "      <td>11.33</td>\n",
       "      <td>1.00</td>\n",
       "      <td>1.0</td>\n",
       "      <td>1.0</td>\n",
       "      <td>44.615385</td>\n",
       "      <td>115.038462</td>\n",
       "      <td>107.192308</td>\n",
       "      <td>120.0</td>\n",
       "    </tr>\n",
       "    <tr>\n",
       "      <th>...</th>\n",
       "      <td>...</td>\n",
       "      <td>...</td>\n",
       "      <td>...</td>\n",
       "      <td>...</td>\n",
       "      <td>...</td>\n",
       "      <td>...</td>\n",
       "      <td>...</td>\n",
       "      <td>...</td>\n",
       "      <td>...</td>\n",
       "      <td>...</td>\n",
       "    </tr>\n",
       "    <tr>\n",
       "      <th>157</th>\n",
       "      <td>1.0</td>\n",
       "      <td>0.0</td>\n",
       "      <td>9.92</td>\n",
       "      <td>0.96</td>\n",
       "      <td>0.0</td>\n",
       "      <td>0.0</td>\n",
       "      <td>35.000000</td>\n",
       "      <td>107.000000</td>\n",
       "      <td>124.000000</td>\n",
       "      <td>117.0</td>\n",
       "    </tr>\n",
       "    <tr>\n",
       "      <th>158</th>\n",
       "      <td>1.0</td>\n",
       "      <td>1.0</td>\n",
       "      <td>11.42</td>\n",
       "      <td>0.96</td>\n",
       "      <td>0.0</td>\n",
       "      <td>0.0</td>\n",
       "      <td>-999.000000</td>\n",
       "      <td>130.000000</td>\n",
       "      <td>127.000000</td>\n",
       "      <td>132.0</td>\n",
       "    </tr>\n",
       "    <tr>\n",
       "      <th>159</th>\n",
       "      <td>1.0</td>\n",
       "      <td>0.0</td>\n",
       "      <td>11.58</td>\n",
       "      <td>0.96</td>\n",
       "      <td>0.0</td>\n",
       "      <td>0.0</td>\n",
       "      <td>23.000000</td>\n",
       "      <td>123.000000</td>\n",
       "      <td>111.000000</td>\n",
       "      <td>119.0</td>\n",
       "    </tr>\n",
       "    <tr>\n",
       "      <th>160</th>\n",
       "      <td>1.0</td>\n",
       "      <td>1.0</td>\n",
       "      <td>11.83</td>\n",
       "      <td>0.96</td>\n",
       "      <td>0.0</td>\n",
       "      <td>0.0</td>\n",
       "      <td>31.000000</td>\n",
       "      <td>129.000000</td>\n",
       "      <td>120.000000</td>\n",
       "      <td>128.0</td>\n",
       "    </tr>\n",
       "    <tr>\n",
       "      <th>161</th>\n",
       "      <td>1.0</td>\n",
       "      <td>1.0</td>\n",
       "      <td>11.33</td>\n",
       "      <td>0.96</td>\n",
       "      <td>0.0</td>\n",
       "      <td>0.0</td>\n",
       "      <td>24.000000</td>\n",
       "      <td>128.000000</td>\n",
       "      <td>135.000000</td>\n",
       "      <td>135.0</td>\n",
       "    </tr>\n",
       "  </tbody>\n",
       "</table>\n",
       "<p>162 rows × 10 columns</p>\n",
       "</div>"
      ],
      "text/plain": [
       "     Site  Gender    Age  Handedness   DX  ADHD Measure  ADHD Index  \\\n",
       "0     6.0     0.0  10.42        0.96  1.0           1.0   44.615385   \n",
       "1     6.0     1.0  10.67        1.00  1.0           1.0   44.615385   \n",
       "2     6.0     1.0  11.75        1.00  0.0           1.0   44.615385   \n",
       "3     6.0     1.0  11.08        1.00  3.0           1.0   44.615385   \n",
       "4     6.0     0.0  11.33        1.00  1.0           1.0   44.615385   \n",
       "..    ...     ...    ...         ...  ...           ...         ...   \n",
       "157   1.0     0.0   9.92        0.96  0.0           0.0   35.000000   \n",
       "158   1.0     1.0  11.42        0.96  0.0           0.0 -999.000000   \n",
       "159   1.0     0.0  11.58        0.96  0.0           0.0   23.000000   \n",
       "160   1.0     1.0  11.83        0.96  0.0           0.0   31.000000   \n",
       "161   1.0     1.0  11.33        0.96  0.0           0.0   24.000000   \n",
       "\n",
       "      Verbal IQ  Performance IQ  Full4 IQ  \n",
       "0    115.038462      107.192308     104.0  \n",
       "1    115.038462      107.192308     136.0  \n",
       "2    115.038462      107.192308     104.0  \n",
       "3    115.038462      107.192308     112.0  \n",
       "4    115.038462      107.192308     120.0  \n",
       "..          ...             ...       ...  \n",
       "157  107.000000      124.000000     117.0  \n",
       "158  130.000000      127.000000     132.0  \n",
       "159  123.000000      111.000000     119.0  \n",
       "160  129.000000      120.000000     128.0  \n",
       "161  128.000000      135.000000     135.0  \n",
       "\n",
       "[162 rows x 10 columns]"
      ]
     },
     "execution_count": 10,
     "metadata": {},
     "output_type": "execute_result"
    }
   ],
   "source": [
    "data = pd.read_csv(\"../data/01-modified-data/combined_data_clean.csv\")\n",
    "data"
   ]
  },
  {
   "cell_type": "code",
   "execution_count": 11,
   "metadata": {},
   "outputs": [
    {
     "name": "stdout",
     "output_type": "stream",
     "text": [
      "     Site  Gender    Age  Handedness   DX  ADHD Index   Verbal IQ  \\\n",
      "0     6.0     0.0  10.42        0.96  1.0   44.615385  115.038462   \n",
      "1     6.0     1.0  10.67        1.00  1.0   44.615385  115.038462   \n",
      "2     6.0     1.0  11.75        1.00  0.0   44.615385  115.038462   \n",
      "3     6.0     1.0  11.08        1.00  3.0   44.615385  115.038462   \n",
      "4     6.0     0.0  11.33        1.00  1.0   44.615385  115.038462   \n",
      "..    ...     ...    ...         ...  ...         ...         ...   \n",
      "157   1.0     0.0   9.92        0.96  0.0   35.000000  107.000000   \n",
      "158   1.0     1.0  11.42        0.96  0.0 -999.000000  130.000000   \n",
      "159   1.0     0.0  11.58        0.96  0.0   23.000000  123.000000   \n",
      "160   1.0     1.0  11.83        0.96  0.0   31.000000  129.000000   \n",
      "161   1.0     1.0  11.33        0.96  0.0   24.000000  128.000000   \n",
      "\n",
      "     Performance IQ  Full4 IQ  \n",
      "0        107.192308     104.0  \n",
      "1        107.192308     136.0  \n",
      "2        107.192308     104.0  \n",
      "3        107.192308     112.0  \n",
      "4        107.192308     120.0  \n",
      "..              ...       ...  \n",
      "157      124.000000     117.0  \n",
      "158      127.000000     132.0  \n",
      "159      111.000000     119.0  \n",
      "160      120.000000     128.0  \n",
      "161      135.000000     135.0  \n",
      "\n",
      "[162 rows x 9 columns]\n",
      "Best feature subset: (2,)\n",
      "Best accuracy: 1.0\n"
     ]
    }
   ],
   "source": [
    "#FEATURE SELECTION\n",
    "from sklearn.datasets import load_iris\n",
    "from sklearn.model_selection import train_test_split\n",
    "from sklearn.naive_bayes import GaussianNB\n",
    "from sklearn.metrics import accuracy_score\n",
    "from itertools import combinations\n",
    "\n",
    "sel_col = [\"Site\",\"Gender\",\"Age\",\"Handedness\",\"DX\",\"ADHD Index\",\"Verbal IQ\",\"Performance IQ\",\"Full4 IQ\"]\n",
    "x = data[sel_col]\n",
    "print(x)\n",
    "y = data[\"ADHD Measure\"]\n",
    "\n",
    "\n",
    "X = x\n",
    "\n",
    "\n",
    "from sklearn.datasets import load_iris\n",
    "from itertools import combinations\n",
    "from sklearn.model_selection import train_test_split\n",
    "from sklearn.naive_bayes import GaussianNB\n",
    "from sklearn.metrics import accuracy_score\n",
    "import numpy as np\n",
    "\n",
    "# Load the Iris dataset as an example\n",
    "iris = load_iris()\n",
    "X = iris.data\n",
    "y = iris.target\n",
    "\n",
    "# Split the data into training and testing sets\n",
    "X_train, X_test, y_train, y_test = train_test_split(X, y, test_size=0.3, random_state=42)\n",
    "\n",
    "# Initialize variables to keep track of the best feature subset and its accuracy\n",
    "best_feature_subset = None\n",
    "best_accuracy = 0.0\n",
    "\n",
    "# Iterate over different feature subset sizes (1 to the number of features)\n",
    "for num_features in range(1, X.shape[1] + 1):\n",
    "    # Generate all possible combinations of features\n",
    "    feature_combinations = list(combinations(range(X.shape[1]), num_features))\n",
    "    \n",
    "    for feature_indices in feature_combinations:\n",
    "        # Select the subset of features using array slicing\n",
    "        X_train_subset = X_train[:, feature_indices]\n",
    "        X_test_subset = X_test[:, feature_indices]\n",
    "\n",
    "        # Train a Naive Bayes model\n",
    "        nb_classifier = GaussianNB()\n",
    "        nb_classifier.fit(X_train_subset, y_train)\n",
    "\n",
    "        # Make predictions on the test set\n",
    "        y_pred = nb_classifier.predict(X_test_subset)\n",
    "\n",
    "        # Evaluate the model using accuracy\n",
    "        accuracy = accuracy_score(y_test, y_pred)\n",
    "\n",
    "        # Check if the current subset of features gives a better accuracy\n",
    "        if accuracy > best_accuracy:\n",
    "            best_accuracy = accuracy\n",
    "            best_feature_subset = feature_indices\n",
    "\n",
    "print(\"Best feature subset:\", best_feature_subset)\n",
    "print(\"Best accuracy:\", best_accuracy)\n",
    "\n"
   ]
  },
  {
   "cell_type": "code",
   "execution_count": 12,
   "metadata": {},
   "outputs": [
    {
     "name": "stdout",
     "output_type": "stream",
     "text": [
      "[4.331 1.077 0.934 1.179 1.17  3.544 1.868 3.45 ]\n",
      "[[  6.      1.     44.615 115.038]\n",
      " [  6.      1.     44.615 115.038]\n",
      " [  6.      1.     44.615 115.038]\n",
      " [  6.      1.     44.615 115.038]\n",
      " [  6.      1.     44.615 115.038]\n",
      " [  6.      1.     44.615 115.038]\n",
      " [  6.      1.     44.615 115.038]]\n",
      "Number of selected features: 4\n",
      "Number of rows in features: 162\n"
     ]
    }
   ],
   "source": [
    "array = data.values\n",
    "X = array[:,0:8]\n",
    "Y = array[:,8]\n",
    "# feature extraction\n",
    "test = SelectKBest(score_func=f_classif, k=4)\n",
    "fit = test.fit(X, Y)\n",
    "# summarize scores\n",
    "set_printoptions(precision=3)\n",
    "print(fit.scores_)\n",
    "features = fit.transform(X)\n",
    "# summarize selected features\n",
    "print(features[0:7,:])\n",
    "\n",
    "num_selected_features = features.shape[1]\n",
    "print(\"Number of selected features:\", num_selected_features)\n",
    "\n",
    "num_rows = features.shape[0]\n",
    "print(\"Number of rows in features:\", num_rows)"
   ]
  },
  {
   "cell_type": "code",
   "execution_count": 13,
   "metadata": {},
   "outputs": [
    {
     "name": "stdout",
     "output_type": "stream",
     "text": [
      "     Site   DX   Verbal IQ  ADHD Index\n",
      "0     6.0  1.0   44.615385  115.038462\n",
      "1     6.0  1.0   44.615385  115.038462\n",
      "2     6.0  1.0   44.615385  115.038462\n",
      "3     6.0  1.0   44.615385  115.038462\n",
      "4     6.0  1.0   44.615385  115.038462\n",
      "..    ...  ...         ...         ...\n",
      "157   1.0  0.0   35.000000  107.000000\n",
      "158   1.0  0.0 -999.000000  130.000000\n",
      "159   1.0  0.0   23.000000  123.000000\n",
      "160   1.0  0.0   31.000000  129.000000\n",
      "161   1.0  0.0   24.000000  128.000000\n",
      "\n",
      "[162 rows x 4 columns]\n"
     ]
    }
   ],
   "source": [
    "# Assuming you have the original data DataFrame and feature names\n",
    "original_data = pd.DataFrame(data, columns=['Site', 'DX','Verbal IQ', 'ADHD Index'])\n",
    "\n",
    "# Get the names of the selected features (assuming feature_names is a list)\n",
    "selected_feature_names = [original_data.columns[i] for i in range(num_selected_features)]\n",
    "\n",
    "# Create a new DataFrame with the selected features\n",
    "selected_data = pd.DataFrame(features, columns=selected_feature_names)\n",
    "print(selected_data)"
   ]
  },
  {
   "cell_type": "code",
   "execution_count": 14,
   "metadata": {},
   "outputs": [
    {
     "name": "stdout",
     "output_type": "stream",
     "text": [
      "     Site   DX   Verbal IQ  ADHD Index\n",
      "0     6.0  1.0  115.038462   44.615385\n",
      "1     6.0  1.0  115.038462   44.615385\n",
      "2     6.0  0.0  115.038462   44.615385\n",
      "3     6.0  3.0  115.038462   44.615385\n",
      "4     6.0  1.0  115.038462   44.615385\n",
      "..    ...  ...         ...         ...\n",
      "157   1.0  0.0  107.000000   35.000000\n",
      "158   1.0  0.0  130.000000 -999.000000\n",
      "159   1.0  0.0  123.000000   23.000000\n",
      "160   1.0  0.0  129.000000   31.000000\n",
      "161   1.0  0.0  128.000000   24.000000\n",
      "\n",
      "[162 rows x 4 columns]\n"
     ]
    }
   ],
   "source": [
    "sel_col = [\"Site\",\"DX\",\"Verbal IQ\",\"ADHD Index\"]\n",
    "x = data[sel_col]\n",
    "print(x)\n",
    "y = data[\"ADHD Measure\"]"
   ]
  },
  {
   "cell_type": "code",
   "execution_count": 15,
   "metadata": {},
   "outputs": [
    {
     "data": {
      "text/plain": [
       "Site              float64\n",
       "Gender            float64\n",
       "Age               float64\n",
       "Handedness        float64\n",
       "DX                float64\n",
       "ADHD Measure      float64\n",
       "ADHD Index        float64\n",
       "Verbal IQ         float64\n",
       "Performance IQ    float64\n",
       "Full4 IQ          float64\n",
       "dtype: object"
      ]
     },
     "execution_count": 15,
     "metadata": {},
     "output_type": "execute_result"
    }
   ],
   "source": [
    "data.dtypes"
   ]
  },
  {
   "cell_type": "code",
   "execution_count": 16,
   "metadata": {},
   "outputs": [
    {
     "data": {
      "text/plain": [
       "Site              0\n",
       "Gender            0\n",
       "Age               0\n",
       "Handedness        0\n",
       "DX                0\n",
       "ADHD Measure      0\n",
       "ADHD Index        0\n",
       "Verbal IQ         0\n",
       "Performance IQ    0\n",
       "Full4 IQ          0\n",
       "dtype: int64"
      ]
     },
     "execution_count": 16,
     "metadata": {},
     "output_type": "execute_result"
    }
   ],
   "source": [
    "data.isna().sum()"
   ]
  },
  {
   "cell_type": "markdown",
   "metadata": {},
   "source": [
    "## Basic EDA"
   ]
  },
  {
   "cell_type": "code",
   "execution_count": 17,
   "metadata": {},
   "outputs": [
    {
     "data": {
      "text/plain": [
       "<Axes: >"
      ]
     },
     "execution_count": 17,
     "metadata": {},
     "output_type": "execute_result"
    },
    {
     "data": {
      "image/png": "[encoded data removed]",
      "text/plain": [
       "<Figure size 640x480 with 1 Axes>"
      ]
     },
     "metadata": {},
     "output_type": "display_data"
    }
   ],
   "source": [
    "data[\"ADHD Measure\"].hist()"
   ]
  },
  {
   "cell_type": "code",
   "execution_count": 18,
   "metadata": {},
   "outputs": [
    {
     "data": {
      "text/plain": [
       "<Axes: >"
      ]
     },
     "execution_count": 18,
     "metadata": {},
     "output_type": "execute_result"
    },
    {
     "data": {
      "image/png": "[encoded data removed]",
      "text/plain": [
       "<Figure size 640x480 with 2 Axes>"
      ]
     },
     "metadata": {},
     "output_type": "display_data"
    }
   ],
   "source": [
    "corr = data.iloc[:,:-1].corr(method=\"pearson\")\n",
    "cmap = sns.diverging_palette(250,354,80,60,center='dark',as_cmap=True)\n",
    "sns.heatmap(corr, vmax=1, vmin=-.5, cmap=cmap, square=True, linewidths=.2)"
   ]
  },
  {
   "cell_type": "code",
   "execution_count": 19,
   "metadata": {},
   "outputs": [
    {
     "data": {
      "text/html": [
       "<div>\n",
       "<style scoped>\n",
       "    .dataframe tbody tr th:only-of-type {\n",
       "        vertical-align: middle;\n",
       "    }\n",
       "\n",
       "    .dataframe tbody tr th {\n",
       "        vertical-align: top;\n",
       "    }\n",
       "\n",
       "    .dataframe thead th {\n",
       "        text-align: right;\n",
       "    }\n",
       "</style>\n",
       "<table border=\"1\" class=\"dataframe\">\n",
       "  <thead>\n",
       "    <tr style=\"text-align: right;\">\n",
       "      <th></th>\n",
       "      <th>Site</th>\n",
       "      <th>DX</th>\n",
       "      <th>Verbal IQ</th>\n",
       "      <th>ADHD Index</th>\n",
       "      <th>ADHD Measure</th>\n",
       "    </tr>\n",
       "  </thead>\n",
       "  <tbody>\n",
       "    <tr>\n",
       "      <th>0</th>\n",
       "      <td>6.0</td>\n",
       "      <td>1.0</td>\n",
       "      <td>115.038462</td>\n",
       "      <td>44.615385</td>\n",
       "      <td>1.0</td>\n",
       "    </tr>\n",
       "    <tr>\n",
       "      <th>1</th>\n",
       "      <td>6.0</td>\n",
       "      <td>1.0</td>\n",
       "      <td>115.038462</td>\n",
       "      <td>44.615385</td>\n",
       "      <td>1.0</td>\n",
       "    </tr>\n",
       "    <tr>\n",
       "      <th>2</th>\n",
       "      <td>6.0</td>\n",
       "      <td>0.0</td>\n",
       "      <td>115.038462</td>\n",
       "      <td>44.615385</td>\n",
       "      <td>1.0</td>\n",
       "    </tr>\n",
       "    <tr>\n",
       "      <th>3</th>\n",
       "      <td>6.0</td>\n",
       "      <td>3.0</td>\n",
       "      <td>115.038462</td>\n",
       "      <td>44.615385</td>\n",
       "      <td>1.0</td>\n",
       "    </tr>\n",
       "    <tr>\n",
       "      <th>4</th>\n",
       "      <td>6.0</td>\n",
       "      <td>1.0</td>\n",
       "      <td>115.038462</td>\n",
       "      <td>44.615385</td>\n",
       "      <td>1.0</td>\n",
       "    </tr>\n",
       "    <tr>\n",
       "      <th>5</th>\n",
       "      <td>6.0</td>\n",
       "      <td>0.0</td>\n",
       "      <td>115.038462</td>\n",
       "      <td>44.615385</td>\n",
       "      <td>1.0</td>\n",
       "    </tr>\n",
       "    <tr>\n",
       "      <th>6</th>\n",
       "      <td>6.0</td>\n",
       "      <td>0.0</td>\n",
       "      <td>115.038462</td>\n",
       "      <td>44.615385</td>\n",
       "      <td>1.0</td>\n",
       "    </tr>\n",
       "    <tr>\n",
       "      <th>7</th>\n",
       "      <td>6.0</td>\n",
       "      <td>0.0</td>\n",
       "      <td>115.038462</td>\n",
       "      <td>44.615385</td>\n",
       "      <td>1.0</td>\n",
       "    </tr>\n",
       "    <tr>\n",
       "      <th>8</th>\n",
       "      <td>6.0</td>\n",
       "      <td>0.0</td>\n",
       "      <td>115.038462</td>\n",
       "      <td>44.615385</td>\n",
       "      <td>1.0</td>\n",
       "    </tr>\n",
       "    <tr>\n",
       "      <th>9</th>\n",
       "      <td>6.0</td>\n",
       "      <td>0.0</td>\n",
       "      <td>115.038462</td>\n",
       "      <td>44.615385</td>\n",
       "      <td>1.0</td>\n",
       "    </tr>\n",
       "  </tbody>\n",
       "</table>\n",
       "</div>"
      ],
      "text/plain": [
       "   Site   DX   Verbal IQ  ADHD Index  ADHD Measure\n",
       "0   6.0  1.0  115.038462   44.615385           1.0\n",
       "1   6.0  1.0  115.038462   44.615385           1.0\n",
       "2   6.0  0.0  115.038462   44.615385           1.0\n",
       "3   6.0  3.0  115.038462   44.615385           1.0\n",
       "4   6.0  1.0  115.038462   44.615385           1.0\n",
       "5   6.0  0.0  115.038462   44.615385           1.0\n",
       "6   6.0  0.0  115.038462   44.615385           1.0\n",
       "7   6.0  0.0  115.038462   44.615385           1.0\n",
       "8   6.0  0.0  115.038462   44.615385           1.0\n",
       "9   6.0  0.0  115.038462   44.615385           1.0"
      ]
     },
     "execution_count": 19,
     "metadata": {},
     "output_type": "execute_result"
    }
   ],
   "source": [
    "data.columns\n",
    "data = data[[\"Site\",\"DX\",\"Verbal IQ\",\"ADHD Index\",\"ADHD Measure\"]]\n",
    "data.head(10)"
   ]
  },
  {
   "cell_type": "code",
   "execution_count": 20,
   "metadata": {},
   "outputs": [
    {
     "data": {
      "text/plain": [
       "<Axes: xlabel='Verbal IQ', ylabel='Count'>"
      ]
     },
     "execution_count": 20,
     "metadata": {},
     "output_type": "execute_result"
    },
    {
     "data": {
      "image/png": "[encoded data removed]",
      "text/plain": [
       "<Figure size 1800x600 with 3 Axes>"
      ]
     },
     "metadata": {},
     "output_type": "display_data"
    }
   ],
   "source": [
    "fig, axes = plt.subplots(1, 3, figsize=(18, 6), sharey=True)\n",
    "sns.histplot(data, ax=axes[0], x=\"ADHD Index\", kde=True, color='r')\n",
    "sns.histplot(data, ax=axes[1], x=\"Site\", kde=True, color='r')\n",
    "sns.histplot(data, ax=axes[2], x=\"Verbal IQ\", kde=True, color='r')\n",
    "#sns.histplot(data, ax=axes[1], x=\"mean_smoothness\", kde=True, color='b')\n",
    "#sns.histplot(data, ax=axes[2], x=\"mean_texture\", kde=True)\n"
   ]
  },
  {
   "cell_type": "markdown",
   "metadata": {},
   "source": [
    "## Calculate P(Y=y) for all possible y"
   ]
  },
  {
   "cell_type": "code",
   "execution_count": 21,
   "metadata": {},
   "outputs": [],
   "source": [
    "def calculate_prior(df, Y):\n",
    "    classes = sorted(list(df[Y].unique()))\n",
    "    prior = []\n",
    "    for i in classes:\n",
    "        prior.append(len(df[df[Y]==i])/len(df))\n",
    "    return prior"
   ]
  },
  {
   "cell_type": "markdown",
   "metadata": {},
   "source": [
    "## Approach 1: Calculate P(X=x|Y=y) using Gaussian dist."
   ]
  },
  {
   "cell_type": "code",
   "execution_count": 22,
   "metadata": {},
   "outputs": [],
   "source": [
    "def calculate_likelihood_gaussian(df, feat_name, feat_val, Y, label):\n",
    "    feat = list(df.columns)\n",
    "    df = df[df[Y]==label]\n",
    "    mean, std = df[feat_name].mean(), df[feat_name].std()\n",
    "    p_x_given_y = (1 / (np.sqrt(2 * np.pi) * std)) *  np.exp(-((feat_val-mean)**2 / (2 * std**2 )))\n",
    "    return p_x_given_y"
   ]
  },
  {
   "cell_type": "markdown",
   "metadata": {},
   "source": [
    "## Calculate P(X=x1|Y=y)P(X=x2|Y=y)...P(X=xn|Y=y) * P(Y=y) for all y and find the maximum"
   ]
  },
  {
   "cell_type": "code",
   "execution_count": 23,
   "metadata": {},
   "outputs": [],
   "source": [
    "def naive_bayes_gaussian(df, X, Y):\n",
    "    # get feature names\n",
    "    features = list(df.columns)[:-1]\n",
    "\n",
    "    # calculate prior\n",
    "    prior = calculate_prior(df, Y)\n",
    "\n",
    "    Y_pred = []\n",
    "    # loop over every data sample\n",
    "    for x in X:\n",
    "        # calculate likelihood\n",
    "        labels = sorted(list(df[Y].unique()))\n",
    "        likelihood = [1]*len(labels)\n",
    "        for j in range(len(labels)):\n",
    "            for i in range(len(features)):\n",
    "                likelihood[j] *= calculate_likelihood_gaussian(df, features[i], x[i], Y, labels[j])\n",
    "\n",
    "        # calculate posterior probability (numerator only)\n",
    "        post_prob = [1]*len(labels)\n",
    "        for j in range(len(labels)):\n",
    "            post_prob[j] = likelihood[j] * prior[j]\n",
    "\n",
    "        Y_pred.append(np.argmax(post_prob))\n",
    "\n",
    "    return np.array(Y_pred) "
   ]
  },
  {
   "cell_type": "markdown",
   "metadata": {},
   "source": [
    "## Test Gaussian model"
   ]
  },
  {
   "cell_type": "code",
   "execution_count": 24,
   "metadata": {},
   "outputs": [
    {
     "name": "stdout",
     "output_type": "stream",
     "text": [
      "[[ 8  0  0]\n",
      " [19  0  0]\n",
      " [ 6  0  0]]\n",
      "0.13008130081300814\n",
      "Precision: 0.08080808080808081\n",
      "Recall: 0.3333333333333333\n",
      "Accuracy: 0.24\n"
     ]
    },
    {
     "name": "stderr",
     "output_type": "stream",
     "text": [
      "/var/folders/bd/fz7166695vq0bg9w400f8zl40000gn/T/ipykernel_31781/1619075566.py:5: RuntimeWarning: divide by zero encountered in scalar divide\n",
      "  p_x_given_y = (1 / (np.sqrt(2 * np.pi) * std)) *  np.exp(-((feat_val-mean)**2 / (2 * std**2 )))\n",
      "/var/folders/bd/fz7166695vq0bg9w400f8zl40000gn/T/ipykernel_31781/1619075566.py:5: RuntimeWarning: invalid value encountered in scalar divide\n",
      "  p_x_given_y = (1 / (np.sqrt(2 * np.pi) * std)) *  np.exp(-((feat_val-mean)**2 / (2 * std**2 )))\n",
      "/var/folders/bd/fz7166695vq0bg9w400f8zl40000gn/T/ipykernel_31781/1619075566.py:5: RuntimeWarning: invalid value encountered in scalar multiply\n",
      "  p_x_given_y = (1 / (np.sqrt(2 * np.pi) * std)) *  np.exp(-((feat_val-mean)**2 / (2 * std**2 )))\n",
      "/Users/apple/anaconda3/lib/python3.11/site-packages/sklearn/metrics/_classification.py:1469: UndefinedMetricWarning: Precision is ill-defined and being set to 0.0 in labels with no predicted samples. Use `zero_division` parameter to control this behavior.\n",
      "  _warn_prf(average, modifier, msg_start, len(result))\n"
     ]
    }
   ],
   "source": [
    "from sklearn.model_selection import train_test_split\n",
    "from sklearn.metrics import recall_score\n",
    "from sklearn.metrics import precision_score\n",
    "from sklearn.metrics import confusion_matrix, f1_score\n",
    "train, test = train_test_split(data, test_size=.2, random_state=42)\n",
    "\n",
    "#X_test = test.iloc[:,:-1].values\n",
    "sel_col = [\"Site\",\"DX\",\"Verbal IQ\",\"ADHD Index\"]\n",
    "X_test = test[sel_col].values\n",
    "\n",
    "Y_test = test[[\"ADHD Measure\"]].values\n",
    "Y_pred = naive_bayes_gaussian(train, X=X_test, Y=\"ADHD Measure\")\n",
    "\n",
    "\n",
    "print(confusion_matrix(Y_test, Y_pred))\n",
    "print(f1_score(Y_test, Y_pred,average = 'macro'))\n",
    "\n",
    "\n",
    "# Assuming you have y_true (true labels) and y_pred (model predictions)\n",
    "precision = precision_score(Y_test, Y_pred,average = 'macro')\n",
    "\n",
    "print(\"Precision:\", precision)\n",
    "\n",
    "\n",
    "# Assuming you have y_true (true labels) and y_pred (model predictions)\n",
    "recall = recall_score(Y_test, Y_pred,average = 'macro')\n",
    "\n",
    "print(\"Recall:\", recall)\n",
    "\n",
    "\n",
    "from sklearn.metrics import accuracy_score\n",
    "\n",
    "# Assuming you have two lists or arrays: y_true (true labels) and y_pred (predicted labels)\n",
    "accuracy = accuracy_score(Y_test, Y_pred)\n",
    "\n",
    "# Print the accuracy\n",
    "print(f'Accuracy: {accuracy:.2f}')"
   ]
  },
  {
   "cell_type": "code",
   "execution_count": 29,
   "metadata": {
    "collapsed": true
   },
   "outputs": [
    {
     "ename": "ValueError",
     "evalue": "multiclass format is not supported",
     "output_type": "error",
     "traceback": [
      "\u001b[0;31m---------------------------------------------------------------------------\u001b[0m",
      "\u001b[0;31mValueError\u001b[0m                                Traceback (most recent call last)",
      "Cell \u001b[0;32mIn[29], line 8\u001b[0m\n\u001b[1;32m      5\u001b[0m y_true \u001b[38;5;241m=\u001b[39m [\u001b[38;5;241m0\u001b[39m, \u001b[38;5;241m1\u001b[39m, \u001b[38;5;241m1\u001b[39m, \u001b[38;5;241m0\u001b[39m, \u001b[38;5;241m1\u001b[39m, \u001b[38;5;241m0\u001b[39m, \u001b[38;5;241m0\u001b[39m]\n\u001b[1;32m      6\u001b[0m y_scores \u001b[38;5;241m=\u001b[39m [\u001b[38;5;241m0.1\u001b[39m, \u001b[38;5;241m0.9\u001b[39m, \u001b[38;5;241m0.8\u001b[39m, \u001b[38;5;241m0.3\u001b[39m, \u001b[38;5;241m0.6\u001b[39m, \u001b[38;5;241m0.2\u001b[39m, \u001b[38;5;241m0.4\u001b[39m]\n\u001b[0;32m----> 8\u001b[0m fpr, tpr, thresholds \u001b[38;5;241m=\u001b[39m roc_curve(Y_test, Y_pred)\n\u001b[1;32m      9\u001b[0m roc_auc \u001b[38;5;241m=\u001b[39m roc_auc_score(Y_test, Y_pred)\n\u001b[1;32m     11\u001b[0m plt\u001b[38;5;241m.\u001b[39mfigure()\n",
      "File \u001b[0;32m~/anaconda3/lib/python3.11/site-packages/sklearn/utils/_param_validation.py:211\u001b[0m, in \u001b[0;36mvalidate_params.<locals>.decorator.<locals>.wrapper\u001b[0;34m(*args, **kwargs)\u001b[0m\n\u001b[1;32m    205\u001b[0m \u001b[38;5;28;01mtry\u001b[39;00m:\n\u001b[1;32m    206\u001b[0m     \u001b[38;5;28;01mwith\u001b[39;00m config_context(\n\u001b[1;32m    207\u001b[0m         skip_parameter_validation\u001b[38;5;241m=\u001b[39m(\n\u001b[1;32m    208\u001b[0m             prefer_skip_nested_validation \u001b[38;5;129;01mor\u001b[39;00m global_skip_validation\n\u001b[1;32m    209\u001b[0m         )\n\u001b[1;32m    210\u001b[0m     ):\n\u001b[0;32m--> 211\u001b[0m         \u001b[38;5;28;01mreturn\u001b[39;00m func(\u001b[38;5;241m*\u001b[39margs, \u001b[38;5;241m*\u001b[39m\u001b[38;5;241m*\u001b[39mkwargs)\n\u001b[1;32m    212\u001b[0m \u001b[38;5;28;01mexcept\u001b[39;00m InvalidParameterError \u001b[38;5;28;01mas\u001b[39;00m e:\n\u001b[1;32m    213\u001b[0m     \u001b[38;5;66;03m# When the function is just a wrapper around an estimator, we allow\u001b[39;00m\n\u001b[1;32m    214\u001b[0m     \u001b[38;5;66;03m# the function to delegate validation to the estimator, but we replace\u001b[39;00m\n\u001b[1;32m    215\u001b[0m     \u001b[38;5;66;03m# the name of the estimator by the name of the function in the error\u001b[39;00m\n\u001b[1;32m    216\u001b[0m     \u001b[38;5;66;03m# message to avoid confusion.\u001b[39;00m\n\u001b[1;32m    217\u001b[0m     msg \u001b[38;5;241m=\u001b[39m re\u001b[38;5;241m.\u001b[39msub(\n\u001b[1;32m    218\u001b[0m         \u001b[38;5;124mr\u001b[39m\u001b[38;5;124m\"\u001b[39m\u001b[38;5;124mparameter of \u001b[39m\u001b[38;5;124m\\\u001b[39m\u001b[38;5;124mw+ must be\u001b[39m\u001b[38;5;124m\"\u001b[39m,\n\u001b[1;32m    219\u001b[0m         \u001b[38;5;124mf\u001b[39m\u001b[38;5;124m\"\u001b[39m\u001b[38;5;124mparameter of \u001b[39m\u001b[38;5;132;01m{\u001b[39;00mfunc\u001b[38;5;241m.\u001b[39m\u001b[38;5;18m__qualname__\u001b[39m\u001b[38;5;132;01m}\u001b[39;00m\u001b[38;5;124m must be\u001b[39m\u001b[38;5;124m\"\u001b[39m,\n\u001b[1;32m    220\u001b[0m         \u001b[38;5;28mstr\u001b[39m(e),\n\u001b[1;32m    221\u001b[0m     )\n",
      "File \u001b[0;32m~/anaconda3/lib/python3.11/site-packages/sklearn/metrics/_ranking.py:1094\u001b[0m, in \u001b[0;36mroc_curve\u001b[0;34m(y_true, y_score, pos_label, sample_weight, drop_intermediate)\u001b[0m\n\u001b[1;32m    992\u001b[0m \u001b[38;5;129m@validate_params\u001b[39m(\n\u001b[1;32m    993\u001b[0m     {\n\u001b[1;32m    994\u001b[0m         \u001b[38;5;124m\"\u001b[39m\u001b[38;5;124my_true\u001b[39m\u001b[38;5;124m\"\u001b[39m: [\u001b[38;5;124m\"\u001b[39m\u001b[38;5;124marray-like\u001b[39m\u001b[38;5;124m\"\u001b[39m],\n\u001b[0;32m   (...)\u001b[0m\n\u001b[1;32m   1003\u001b[0m     y_true, y_score, \u001b[38;5;241m*\u001b[39m, pos_label\u001b[38;5;241m=\u001b[39m\u001b[38;5;28;01mNone\u001b[39;00m, sample_weight\u001b[38;5;241m=\u001b[39m\u001b[38;5;28;01mNone\u001b[39;00m, drop_intermediate\u001b[38;5;241m=\u001b[39m\u001b[38;5;28;01mTrue\u001b[39;00m\n\u001b[1;32m   1004\u001b[0m ):\n\u001b[1;32m   1005\u001b[0m \u001b[38;5;250m    \u001b[39m\u001b[38;5;124;03m\"\"\"Compute Receiver operating characteristic (ROC).\u001b[39;00m\n\u001b[1;32m   1006\u001b[0m \n\u001b[1;32m   1007\u001b[0m \u001b[38;5;124;03m    Note: this implementation is restricted to the binary classification task.\u001b[39;00m\n\u001b[0;32m   (...)\u001b[0m\n\u001b[1;32m   1092\u001b[0m \u001b[38;5;124;03m    array([ inf, 0.8 , 0.4 , 0.35, 0.1 ])\u001b[39;00m\n\u001b[1;32m   1093\u001b[0m \u001b[38;5;124;03m    \"\"\"\u001b[39;00m\n\u001b[0;32m-> 1094\u001b[0m     fps, tps, thresholds \u001b[38;5;241m=\u001b[39m _binary_clf_curve(\n\u001b[1;32m   1095\u001b[0m         y_true, y_score, pos_label\u001b[38;5;241m=\u001b[39mpos_label, sample_weight\u001b[38;5;241m=\u001b[39msample_weight\n\u001b[1;32m   1096\u001b[0m     )\n\u001b[1;32m   1098\u001b[0m     \u001b[38;5;66;03m# Attempt to drop thresholds corresponding to points in between and\u001b[39;00m\n\u001b[1;32m   1099\u001b[0m     \u001b[38;5;66;03m# collinear with other points. These are always suboptimal and do not\u001b[39;00m\n\u001b[1;32m   1100\u001b[0m     \u001b[38;5;66;03m# appear on a plotted ROC curve (and thus do not affect the AUC).\u001b[39;00m\n\u001b[0;32m   (...)\u001b[0m\n\u001b[1;32m   1105\u001b[0m     \u001b[38;5;66;03m# but does not drop more complicated cases like fps = [1, 3, 7],\u001b[39;00m\n\u001b[1;32m   1106\u001b[0m     \u001b[38;5;66;03m# tps = [1, 2, 4]; there is no harm in keeping too many thresholds.\u001b[39;00m\n\u001b[1;32m   1107\u001b[0m     \u001b[38;5;28;01mif\u001b[39;00m drop_intermediate \u001b[38;5;129;01mand\u001b[39;00m \u001b[38;5;28mlen\u001b[39m(fps) \u001b[38;5;241m>\u001b[39m \u001b[38;5;241m2\u001b[39m:\n",
      "File \u001b[0;32m~/anaconda3/lib/python3.11/site-packages/sklearn/metrics/_ranking.py:803\u001b[0m, in \u001b[0;36m_binary_clf_curve\u001b[0;34m(y_true, y_score, pos_label, sample_weight)\u001b[0m\n\u001b[1;32m    801\u001b[0m y_type \u001b[38;5;241m=\u001b[39m type_of_target(y_true, input_name\u001b[38;5;241m=\u001b[39m\u001b[38;5;124m\"\u001b[39m\u001b[38;5;124my_true\u001b[39m\u001b[38;5;124m\"\u001b[39m)\n\u001b[1;32m    802\u001b[0m \u001b[38;5;28;01mif\u001b[39;00m \u001b[38;5;129;01mnot\u001b[39;00m (y_type \u001b[38;5;241m==\u001b[39m \u001b[38;5;124m\"\u001b[39m\u001b[38;5;124mbinary\u001b[39m\u001b[38;5;124m\"\u001b[39m \u001b[38;5;129;01mor\u001b[39;00m (y_type \u001b[38;5;241m==\u001b[39m \u001b[38;5;124m\"\u001b[39m\u001b[38;5;124mmulticlass\u001b[39m\u001b[38;5;124m\"\u001b[39m \u001b[38;5;129;01mand\u001b[39;00m pos_label \u001b[38;5;129;01mis\u001b[39;00m \u001b[38;5;129;01mnot\u001b[39;00m \u001b[38;5;28;01mNone\u001b[39;00m)):\n\u001b[0;32m--> 803\u001b[0m     \u001b[38;5;28;01mraise\u001b[39;00m \u001b[38;5;167;01mValueError\u001b[39;00m(\u001b[38;5;124m\"\u001b[39m\u001b[38;5;132;01m{0}\u001b[39;00m\u001b[38;5;124m format is not supported\u001b[39m\u001b[38;5;124m\"\u001b[39m\u001b[38;5;241m.\u001b[39mformat(y_type))\n\u001b[1;32m    805\u001b[0m check_consistent_length(y_true, y_score, sample_weight)\n\u001b[1;32m    806\u001b[0m y_true \u001b[38;5;241m=\u001b[39m column_or_1d(y_true)\n",
      "\u001b[0;31mValueError\u001b[0m: multiclass format is not supported"
     ]
    }
   ],
   "source": []
  },
  {
   "cell_type": "code",
   "execution_count": null,
   "metadata": {},
   "outputs": [],
   "source": []
  },
  {
   "cell_type": "markdown",
   "metadata": {},
   "source": [
    "## Convert continuous features to Categorical features"
   ]
  },
  {
   "cell_type": "code",
   "execution_count": null,
   "metadata": {},
   "outputs": [],
   "source": [
    "\n",
    "data[\"cat_site\"] = pd.cut(data[\"Site\"].values, bins = 3, labels = [0,1,2])\n",
    "data[\"cat_dx\"] = pd.cut(data[\"DX\"].values, bins = 3, labels = [0,1,2])\n",
    "data[\"cat_index\"] = pd.cut(data[\"ADHD Index\"].values, bins = 3, labels = [0,1,2])\n",
    "data[\"cat_viq\"] = pd.cut(data[\"Verbal IQ\"].values, bins = 3, labels = [0,1,2])\n",
    "\n",
    "data = data.drop(columns=[\"Site\",\"DX\",\"Verbal IQ\",\"ADHD Index\"])\n",
    "data = data[[\"cat_site\",\"cat_dx\",\"cat_viq\",\"cat_index\",\"ADHD Measure\"]]\n",
    "data.head(10)"
   ]
  },
  {
   "cell_type": "markdown",
   "metadata": {},
   "source": [
    "## Approach 2: Calculate P(X=x|Y=y) categorically"
   ]
  },
  {
   "cell_type": "code",
   "execution_count": null,
   "metadata": {},
   "outputs": [],
   "source": [
    "def calculate_likelihood_categorical(df, feat_name, feat_val, Y, label):\n",
    "    feat = list(df.columns)\n",
    "    df = df[df[Y]==label]\n",
    "    p_x_given_y = len(df[df[feat_name]==feat_val]) / len(df)\n",
    "    return p_x_given_y"
   ]
  },
  {
   "cell_type": "markdown",
   "metadata": {},
   "source": [
    "## Calculate P(X=x1|Y=y)P(X=x2|Y=y)...P(X=xn|Y=y) * P(Y=y) for all y and find the maximum"
   ]
  },
  {
   "cell_type": "code",
   "execution_count": null,
   "metadata": {},
   "outputs": [],
   "source": [
    "def naive_bayes_categorical(df, X, Y):\n",
    "    # get feature names\n",
    "    features = list(df.columns)[:-1]\n",
    "\n",
    "    # calculate prior\n",
    "    prior = calculate_prior(df, Y)\n",
    "\n",
    "    Y_pred = []\n",
    "    # loop over every data sample\n",
    "    for x in X:\n",
    "        # calculate likelihood\n",
    "        labels = sorted(list(df[Y].unique()))\n",
    "        likelihood = [1]*len(labels)\n",
    "        for j in range(len(labels)):\n",
    "            for i in range(len(features)):\n",
    "                likelihood[j] *= calculate_likelihood_categorical(df, features[i], x[i], Y, labels[j])\n",
    "\n",
    "        # calculate posterior probability (numerator only)\n",
    "        post_prob = [1]*len(labels)\n",
    "        for j in range(len(labels)):\n",
    "            post_prob[j] = likelihood[j] * prior[j]\n",
    "\n",
    "        Y_pred.append(np.argmax(post_prob))\n",
    "\n",
    "    return np.array(Y_pred) "
   ]
  },
  {
   "cell_type": "markdown",
   "metadata": {},
   "source": [
    "## Test Categorical model"
   ]
  },
  {
   "cell_type": "code",
   "execution_count": null,
   "metadata": {},
   "outputs": [],
   "source": [
    "from sklearn.model_selection import train_test_split\n",
    "train, test = train_test_split(data, test_size=.2, random_state=41)\n",
    "\n",
    "#X_test = test.iloc[:,:-1].values\n",
    "sel_col = [\"cat_site\",\"cat_dx\",\"cat_viq\",\"cat_index\"]\n",
    "X_test = test[sel_col].values\n",
    "\n",
    "Y_test = test[[\"ADHD Measure\"]].values\n",
    "Y_pred = naive_bayes_categorical(train, X=X_test, Y=\"ADHD Measure\")\n",
    "\n",
    "from sklearn.metrics import confusion_matrix, f1_score\n",
    "print(confusion_matrix(Y_test, Y_pred))\n",
    "print(\"f1 score: \",f1_score(Y_test, Y_pred, average = \"macro\"))\n",
    "\n",
    "\n",
    "\n",
    "\n",
    "\n",
    "# Assuming you have y_true (true labels) and y_pred (model predictions)\n",
    "precision = precision_score(Y_test, Y_pred,average = 'macro')\n",
    "\n",
    "print(\"Precision:\", precision)\n",
    "\n",
    "\n",
    "# Assuming you have y_true (true labels) and y_pred (model predictions)\n",
    "recall = recall_score(Y_test, Y_pred,average = 'macro')\n",
    "\n",
    "print(\"Recall:\", recall)\n",
    "\n",
    "# Assuming you have two lists or arrays: y_true (true labels) and y_pred (predicted labels)\n",
    "accuracy = accuracy_score(Y_test, Y_pred)\n",
    "\n",
    "# Print the accuracy\n",
    "print(f'Accuracy: {accuracy:.2f}')"
   ]
  },
  {
   "cell_type": "code",
   "execution_count": null,
   "metadata": {},
   "outputs": [],
   "source": []
  },
  {
   "cell_type": "code",
   "execution_count": null,
   "metadata": {},
   "outputs": [],
   "source": []
  }
 ],
 "metadata": {
  "kernelspec": {
   "display_name": "Python 3 (ipykernel)",
   "language": "python",
   "name": "python3"
  },
  "language_info": {
   "codemirror_mode": {
    "name": "ipython",
    "version": 3
   },
   "file_extension": ".py",
   "mimetype": "text/x-python",
   "name": "python",
   "nbconvert_exporter": "python",
   "pygments_lexer": "ipython3",
   "version": "3.11.4"
  }
 },
 "nbformat": 4,
 "nbformat_minor": 2
}
