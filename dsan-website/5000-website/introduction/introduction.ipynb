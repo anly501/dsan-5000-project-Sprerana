{
  "cells": [
    {
      "cell_type": "markdown",
      "metadata": {},
      "source": [
        "---\n",
        "title: \"Introduction\"\n",
        "bibliography: ../reference.bib\n",
        "---"
      ]
    },
    {
      "cell_type": "markdown",
      "metadata": {},
      "source": [
        "<h2>Summarisation of two academic publications</h2>\n",
        "\n",
        "The research study proposes a machine learning-based framework for the automated detection of Attention-Deficit/Hyperactivity Disorder (ADHD) using pupillometry data. Here's a summary of the key points:\n",
        "\n",
        "**Problem**: The study addresses the need for accurate and efficient ADHD detection, as current clinical examinations rely on qualitative observations and can be prone to misdiagnosis.\n",
        "\n",
        "**Approach**:\n",
        "- **Pupillometric Data**: The study uses pupillometry, specifically pupil-size dynamics, as an objective biomarker for ADHD detection.\n",
        "- **Framework**: The proposed framework integrates:\n",
        "  - Comprehensive pupillometric feature engineering: Extracting a wide range of features from pupillometric data.\n",
        "  - Visualization pipeline: Providing insights into the data.\n",
        "  - Binary classification algorithms: For automated detection.\n",
        "  - Univariate feature selection: Identifying significant differentiators.\n",
        "- **Classifier**: A Support Vector Machine (SVM) classifier is employed for binary"
      ]
    },
    {
      "cell_type": "markdown",
      "metadata": {},
      "source": [
        "one academic citation\n",
        "\n",
        "The text you provided describes a machine learning approach for classifying adult ADHD subtypes based on EEG measurements. Here's a summary of the key points:\n",
        "\n",
        "**Problem**: Classifying adult ADHD subtypes using EEG measurements.\n",
        "\n",
        "**Data Sample**: The study includes 117 adults, comprising 67 individuals with ADHD and 50 controls. EEG measurements are collected under four different conditions: two resting conditions (eyes open and eyes closed) and two neuropsychological tasks (visual continuous performance test and emotional continuous performance test).\n",
        "\n",
        "**Machine Learning Techniques**:\n",
        "- **Support Vector Machine (SVM) Classifiers**: Four different SVM classifiers are trained, one for each data set corresponding to the four conditions.\n",
        "\n",
        "**Ensemble Approach**:\n",
        "- The output of the four SVM classifiers is combined using a logical expression derived from the Karnaugh map, which is a technique for simplifying Boolean algebraic expressions. This ensemble approach is used to combine the results of the individual classifiers.\n",
        "\n",
        "**Results**:\n",
        "- The study concludes that this ensemble approach improves the discrimination between:\n",
        "  1. ADHD and control groups: It enhances the ability to distinguish between individuals with ADHD and those without.\n",
        "  2. ADHD subtypes: It improves the classification of different subtypes within the ADHD group.\n",
        "\n",
        "In summary, this research employs SVM classifiers and an ensemble approach to improve the classification of adult ADHD subtypes based on EEG measurements under different conditions. The results suggest that this approach enhances the discrimination between ADHD and control groups as well as among different ADHD subtypes. It demonstrates the potential of machine learning techniques for assisting in the diagnosis and subtype classification of ADHD in adults based on EEG data."
      ]
    },
    {
      "cell_type": "markdown",
      "metadata": {},
      "source": [
        "This section should include paragraphs that summarize the topic, why it is important, why the reader should continue, what work has been done in the past by other research groups, what are the “different points of views”/interpretations in the literature, what are you exploring, what questions are you trying to address, what are your goals and hypothesis, etc"
      ]
    },
    {
      "cell_type": "markdown",
      "metadata": {},
      "source": [
        "INTERNAL ACADEMIC CITATIONS\n",
        "\n",
        "<ul>\n",
        "  <li>Machine Learning</li>\n",
        "  <li>Artificial Intelligence</li>\n",
        "  <li>Big data and computing</li>\n",
        "</ul>\n",
        "\n",
        "you use the author’s name in the text:\n",
        "Garza (2007) noted that although cats appear to be more intelligent than dogs, dogs actually\n",
        "use similar problem-solving strategies.\n",
        "\n",
        "you use the author’s name in the text:\n",
        "Garza (2007) noted that although cats appear to be more intelligent than dogs, dogs actually\n",
        "use similar problem-solving strategies."
      ]
    },
    {
      "cell_type": "markdown",
      "metadata": {},
      "source": [
        "10 QUESTIONS TO PLAN ON ANSWERING\n",
        "\n",
        "<ul>\n",
        "  <li>What Preprocessing Steps are necessary during data cleaning stage</li>\n",
        "  <li>What are the factors affecting the ADHD</li>\n",
        "  <li>what are the attributes to be considered for the dataset </li>\n",
        "  <li>which machine learning algorithm is best suitable for this problem</li>\n",
        "  <li>what are the different machine learning solutions to this problem</li>\n",
        "  <li>what are the different machine learning solutions to this problem</li>\n",
        "  <li>what are the best sources to find pupillometry data.</li>\n",
        "  <li>what are the different types of data that can considered to detect ADHD.</li>\n",
        "  <li>What Are the ethical and privacy Concerns? to be considered while collecitng sensitive data regarding adhd</li>\n",
        "  <li>What Is the Real-World Applicability of this algorithm? which age group is suffering the most and would require a data science solution to detect ADHD</li>\n",
        "</ul>\n",
        "\n",
        "\n",
        "\n",
        "Develop machine learning models to aid in the early detection and diagnosis of ADHD in children or adults based on behavioral data, neuropsychological assessments, or other relevant data sources.\n",
        "\n",
        "Hypothesis: If we train machine learning models using a diverse dataset that includes behavioral data, neuropsychological assessments, and other relevant features (independent variables), then these models will demonstrate high accuracy in predicting the presence or absence of ADHD in children and adults (dependent variable) because machine learning algorithms can capture patterns and relationships within this multifaceted data, leading to reliable diagnostic predictions.\n",
        "\n",
        "This hypothesis assumes that machine learning models can effectively utilize a comprehensive dataset encompassing behavioral data and neuropsychological assessments to accurately identify individuals with ADHD. The project can aim to test and validate this hypothesis by developing and evaluating the performance of machine learning models on the specified dataset, with \"high accuracy\" defined by specific performance metrics such as sensitivity, specificity, and area under the ROC curve (AUC)."
      ]
    },
    {
      "cell_type": "markdown",
      "metadata": {},
      "source": [
        "CITATIONS\n",
        "\n",
        "@9841277\n",
        "\n",
        "Das, W., Khanna, S. A Robust Machine Learning Based Framework for the Automated Detection of ADHD Using Pupillometric Biomarkers and Time Series Analysis. Sci Rep 11, 16370 (2021). https://doi.org/10.1038/s41598-021-95673-5"
      ]
    }
  ],
  "metadata": {
    "kernelspec": {
      "display_name": "Python 3 (ipykernel)",
      "language": "python",
      "name": "python3"
    },
    "language_info": {
      "codemirror_mode": {
        "name": "ipython",
        "version": 3
      },
      "file_extension": ".py",
      "mimetype": "text/x-python",
      "name": "python",
      "nbconvert_exporter": "python",
      "pygments_lexer": "ipython3",
      "version": "3.8.9"
    }
  },
  "nbformat": 4,
  "nbformat_minor": 4
}
