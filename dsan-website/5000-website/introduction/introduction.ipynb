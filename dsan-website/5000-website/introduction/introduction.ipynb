{
 "cells": [
  {
   "cell_type": "markdown",
   "metadata": {},
   "source": [
    "---\n",
    "title: \"Introduction\"\n",
    "bibliography: ../reference.bib\n",
    "---"
   ]
  },
  {
   "cell_type": "markdown",
   "metadata": {},
   "source": [
    "<h2>Summarisation of two academic publications</h2>\n",
    "\n",
    "<h3>Academic Publication-1</h3>\n",
    "<p>The research study proposes a machine learning-based framework for the automated detection of Attention-Deficit/Hyperactivity Disorder (ADHD) using pupillometry data.</p>\n",
    "\n",
    "<h4> Problem</h4>\n",
    " <p>The study addresses the need for accurate and efficient ADHD detection, as current clinical examinations rely on qualitative observations and can be prone to misdiagnosis.</p>\n",
    "<h4>Approach<h4>\n",
    "\n",
    "<ul>\n",
    "  <li><p>The study uses pupillometry, specifically pupil-size dynamics, as an objective biomarker for ADHD detection.</p></li>\n",
    "  <li>The study provides Comprehensive pupillometric feature engineering to extract a wide range of features from pupillometric data. Data visualization pipeline to provide insights into the data. Binary classification algorithms are used for automated detection. Univariate feature selection to identify significant differentiators.</li>\n",
    "  <li>A Support Vector Machine (SVM) classifier is employed for binary Binary classification where ADHD is there or not</li>\n",
    "</ul>\n",
    "\n",
    "  \n",
    "<h3>Academic Publication-2</h3>\n",
    "\n",
    "<p>The research study proposes a machine learning-based approacg for the automated detection of Attention-Deficit/Hyperactivity Disorder (ADHD) using EEG signal data.</p>\n",
    "\n",
    "<p>The study includes 117 adults, comprising 67 individuals with ADHD and 50 controls. EEG measurements are collected under four different conditions: two resting conditions (eyes open and eyes closed) and two neuropsychological tasks (visual continuous performance test and emotional continuous performance test).</p>\n",
    "<h4>Approach<h4>\n",
    "<p>\n",
    "<ul>\n",
    "\n",
    "  <li>The study uses EEG signal data.</li>\n",
    "  <li> Four different SVM classifiers are trained, one for each data set corresponding to the four conditions mentioned above</li>\n",
    "  <li>The output of the four SVM classifiers is combined using a logical expression derived from the Karnaugh map, which is a technique for simplifying Boolean algebraic expressions. This ensemble approach is used to combine the results of the individual classifiers.</li>\n",
    "\n",
    "</ul>\n",
    "</p>\n",
    "<h4>Results</h4>\n",
    "<p>The study concludes that this ensemble approach improves the discrimination between</p>\n",
    "<ul>\n",
    "  <li> ADHD and control groups: It enhances the ability to distinguish between individuals with ADHD and those without.</li>\n",
    "  <li> ADHD subtypes: It improves the classification of different subtypes within the ADHD group.</li>\n",
    "  <li> The results suggest that this approach enhances the discrimination between ADHD and control groups as well as among different ADHD subtypes. It demonstrates the potential of machine learning techniques for assisting in the diagnosis and subtype classification of ADHD in adults based on EEG data.</li>\n",
    "</ul>\n",
    "\n"
   ]
  },
  {
   "cell_type": "markdown",
   "metadata": {},
   "source": [
    "<h3>summarize the topic</h3>\n",
    "\n",
    "<p>Develop machine learning models to aid in the early detection and diagnosis of ADHD in children or adults based on behavioral data, neuropsychological assessments, or other relevant data sources.</p>\n",
    "\n",
    "<h3>why it is important</h3>\n",
    "\n",
    "<p>Early detection of ADHD is crucial for effective intervention and treatment. Machine learning-based systems can potentially identify ADHD in its early stages, allowing for timely interventions and support for individuals, especially children, who may benefit from early treatment.</p>\n",
    "\n",
    "<h3>why the reader should continue</h3>\n",
    "\n",
    "\n",
    "<h3>what work has been done in the past by other research groups</h3>\n",
    "<p>In 2020, A Machine-Based Prediction Model of ADHD Using CPT Data has been done. To address some of the known shortcomings of traditional analysis and interpretation of CPT data, the present study applied a machine learning-based model (ML) using CPT indices for the Prediction of ADHD.Using a retrospective factorial fitting, followed by a bootstrap technique, we trained, cross-validated, and tested learning models on CPT performance data of 458 children aged 6–12 years ,213 children with ADHD and 245 typically developed children.</p>\n",
    "\n",
    "<h3>what are the “different points of views”/interpretations in the literature</h3>\n",
    "<p> CPT data is being used in the dataset to detect the ADHD. where is in the above mentioned academic publication pupillometry data is being used. Both use Support vector machines to solve it. The academic publication-2 uses four support vector machines to further categorise the detected ADHD into four conditions.</p>\n",
    "\n",
    "<h3>what are you exploring</h3>\n",
    "<p> I would like to explore the use of various data sources, including neuroimaging data (e.g., fMRI, EEG), behavioral assessments, genetic data, and clinical notes. read ore than different approaches and data considered to detect ADHD using ML.</p>\n",
    "\n",
    "<h3> what are your goals and hypothesis</h3>\n",
    "<p> The goal is to collect as much relevant and reliable data as possible to efficiently detect ADHD, that exceeds the accuracy of manual diagnosis. The algorithm taken must be able to model all the conditions and age-groups of the ADHD. </p>\n",
    "<p>Hypothesis 1 (Main hypothesis)\n",
    "\n",
    "ML-based models can significantly improve the accuracy of ADHD diagnosis compared to traditional clinical assessments. </p>\n",
    "<p>Hypothesis 2 (Early Detection)\n",
    "\n",
    "ML models can detect early signs of ADHD in children, allowing for intervention before symptoms become severe.</p>\n",
    "\n"
   ]
  },
  {
   "cell_type": "markdown",
   "metadata": {},
   "source": [
    "<h2>INTERNAL ACADEMIC CITATIONS</h2>\n",
    "\n",
    "<ul>\n",
    "  <li>According to Christian Nash, fMRI\n",
    "and EEG is very reliable as they produce high-dimension data while being non-invasive.</li>\n",
    "  <li>According to William Das pupillometrics can be used to effectively differentiate between ADHD Positive and Negative groups by incorporating SVM</li>\n",
    "</ul>\n"
   ]
  },
  {
   "cell_type": "markdown",
   "metadata": {},
   "source": [
    "<h2>10 QUESTIONS TO PLAN ON ANSWERING</h2>\n",
    "\n",
    "<ul>\n",
    "  <li>What Preprocessing Steps are necessary during data cleaning stage</li>\n",
    "  <li>What are the factors affecting the ADHD</li>\n",
    "  <li>what are the attributes to be considered for the dataset </li>\n",
    "  <li>which machine learning algorithm is best suitable for this problem</li>\n",
    "  <li>what are the different machine learning solutions to this problem</li>\n",
    "  <li>what are the different machine learning solutions to this problem</li>\n",
    "  <li>what are the best sources to find pupillometry data.</li>\n",
    "  <li>what are the different types of data that can considered to detect ADHD.</li>\n",
    "  <li>What Are the ethical and privacy Concerns? to be considered while collecitng sensitive data regarding adhd</li>\n",
    "  <li>What Is the Real-World Applicability of this algorithm? which age group is suffering the most and would require a data science solution to detect ADHD</li>\n",
    "</ul>\n",
    "\n",
    "\n",
    "\n"
   ]
  },
  {
   "cell_type": "markdown",
   "metadata": {},
   "source": [
    "<h2>CITATIONS</h2>\n",
    "\n",
    "<p>@9841277</p>\n",
    "\n",
    "<p>Das, W., Khanna, S. A Robust Machine Learning Based Framework for the Automated Detection of ADHD Using Pupillometric Biomarkers and Time Series Analysis. Sci Rep 11, 16370 (2021). https://doi.org/10.1038/s41598-021-95673-5 </p>"
   ]
  }
 ],
 "metadata": {
  "kernelspec": {
   "display_name": "Python 3 (ipykernel)",
   "language": "python",
   "name": "python3"
  },
  "language_info": {
   "codemirror_mode": {
    "name": "ipython",
    "version": 3
   },
   "file_extension": ".py",
   "mimetype": "text/x-python",
   "name": "python",
   "nbconvert_exporter": "python",
   "pygments_lexer": "ipython3",
   "version": "3.11.4"
  }
 },
 "nbformat": 4,
 "nbformat_minor": 4
}
