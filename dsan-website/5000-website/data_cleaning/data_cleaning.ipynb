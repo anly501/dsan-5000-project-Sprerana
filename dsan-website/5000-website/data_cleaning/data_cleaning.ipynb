{
 "cells": [
  {
   "cell_type": "markdown",
   "metadata": {
    "tags": []
   },
   "source": [
    "---\n",
    "title: \"Data Cleaning\"\n",
    "\n",
    "---\n"
   ]
  },
  {
   "cell_type": "code",
   "execution_count": null,
   "metadata": {},
   "outputs": [],
   "source": [
    "</h>Data cleaning techniques</h>\n",
    "\n",
    "- made sure to avoid mixed data types in the columns of the data frame or tibble.\n",
    "\n",
    "- In python and r , converted few columns to numeric as it has int values\n",
    "\n",
    "- Identified the missing values and replaced with NaN\n",
    "\n",
    "- Replaced the empty with the mean , median or mode accordingly\n",
    "\n",
    "[Data cleaning code in r](https://github.com/anly501/dsan-5000-project-Sprerana/blob/main/codes/01-data_cleaning/data_cleaning_code.qmd)\n",
    "\n",
    "[Data cleaning code in Python](https://github.com/anly501/dsan-5000-project-Sprerana/blob/main/codes/01-data_cleaning/data_cleaning_code.ipynb)"
   ]
  },
  {
   "cell_type": "code",
   "execution_count": null,
   "metadata": {},
   "outputs": [],
   "source": [
    "The data used to clean is Phenotypic data for ADHD detection and diagnosis\n",
    "\n",
    "\n",
    "\n"
   ]
  }
 ],
 "metadata": {
  "kernelspec": {
   "display_name": "Python 3 (ipykernel)",
   "language": "python",
   "name": "python3"
  },
  "language_info": {
   "codemirror_mode": {
    "name": "ipython",
    "version": 3
   },
   "file_extension": ".py",
   "mimetype": "text/x-python",
   "name": "python",
   "nbconvert_exporter": "python",
   "pygments_lexer": "ipython3",
   "version": "3.11.4"
  }
 },
 "nbformat": 4,
 "nbformat_minor": 4
}
