{
  "cells": [
    {
      "cell_type": "markdown",
      "metadata": {},
      "source": [
        "## Data Exploration"
      ]
    },
    {
      "cell_type": "markdown",
      "metadata": {},
      "source": [
        "---\n",
        "title: \"About\"\n",
        "---\n",
        "<a href=\"../introduction/introduction.html\">Introduction</a>\n",
        "\n",
        "<p> Name : Mandalika Sai Prerana</p>\n",
        "<p> NetId : sm3906 </p>\n",
        "\n",
        "<h1>About me</h1>\n",
        "<p>I am Sai Prerana Mandalika. I did my undergrad in Computer Science from CBIT in India. I am excited to be in the Data Science and Analytics program at Georgetown.</p>\n"
      ]
    },
    {
      "cell_type": "markdown",
      "metadata": {},
      "source": [
        "Build out your website tab for exploratory data analysis "
      ]
    },
    {
      "cell_type": "markdown",
      "metadata": {},
      "source": [
        "<h2>Academic Interests</h2>\n",
        "\n",
        "<ul>\n",
        "  <li>Machine Learning</li>\n",
        "  <li>Artificial Intelligence</li>\n",
        "  <li>Big data and computing</li>\n",
        "</ul>\n"
      ]
    },
    {
      "cell_type": "markdown",
      "metadata": {},
      "source": [
        "<h2>Education</h2>\n",
        "<ul>\n",
        "  <li>2014-15 : Intermediate in Gyanavapi Junior College</li>\n",
        "  <li>2015-17 : Undergrad in Computer Science at CBIT</li>\n",
        "  <li>2017-2021 : Masters in Data science and Analytics</li>\n",
        "</ul>\n"
      ]
    }
  ],
  "metadata": {
    "kernelspec": {
      "display_name": "Python 3 (ipykernel)",
      "language": "python",
      "name": "python3"
    },
    "language_info": {
      "codemirror_mode": {
        "name": "ipython",
        "version": 3
      },
      "file_extension": ".py",
      "mimetype": "text/x-python",
      "name": "python",
      "nbconvert_exporter": "python",
      "pygments_lexer": "ipython3",
      "version": "3.8.9"
    }
  },
  "nbformat": 4,
  "nbformat_minor": 4
}
